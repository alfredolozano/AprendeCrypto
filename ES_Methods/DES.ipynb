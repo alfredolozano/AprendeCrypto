{
 "cells": [
  {
   "cell_type": "markdown",
   "metadata": {},
   "source": [
    "# Data Encryption Standard (DES)"
   ]
  },
  {
   "cell_type": "markdown",
   "metadata": {},
   "source": [
    "___________"
   ]
  },
  {
   "cell_type": "markdown",
   "metadata": {},
   "source": [
    "DES es el primer cifrado estandarizado por una institución oficial. Se trata de un esfuerzo por crear un criptosistema seguro para ser aceptado de manera amplia, oficial e internacional. DES fue un método muy utilizado por su seguridad desde el diseño. Eventualmente fue reemplazado por AES, una versión más avanzada y segura de un cifrado de llave privada por bloques.\n",
    "\n",
    "Es un criptosistema que toma bloques de 64 bits y devuelve bloques de 64 bits. De tener un mensaje que no consista en un múltiplo de 64 bits, se debe rellenar con bits elegidos al azar o por el usuario hasta llegar a un múltiplo de 64 bits. También se necesita una llave de 64 bits. Aunque técnicamente se trate de una de 56 bits con 8 bits de paridad.\n",
    "\n",
    "## Manejo de subllaves\n",
    "\n",
    "A partir de la llave original debemos obtener 16 subllaves de 48 bits para usar posteriormente en el algoritmo. Como ya se había mencionado hay 8 bits de paridad, específicamente los bits en posiciones múltiplos de 8 en la llave. Los 56 bits restantes son permutados con una función llamada $PC-1$.\n",
    "\n",
    "![PC-1](./img/PC-1.png)\n",
    "\n",
    "Es decir el bit 57 va al primer lugar, el bit 49 va al segundo, etc. Luego dividimos el resultado en dos partes de 28 bits, tomando los primeros 28 y llamándolo $C_0$ y los últimos 28 y llamándolo $D_0$. Iteramos los siguientes $C_i's$ y $D_i's$ como $C_i=LS_i(C_{i-1}))$ y $D_i=LS_i(D_{i-1}))$ con $LS_i$ una función que dependiendo de la $i$ toma el último o dos últimos bits y los mueve al principio.\n",
    "\n",
    "|i|1|2|3|4|5|6|7|8|9|10|11|12|13|14|15|16|\n",
    "|:-:|:-:|:-:|:-:|:-:|:-:|:-:|:-:|:-:|:-:|:-:|:-:|:-:|:-:|:-:|:-:|\n",
    "|**bits**|1|1|2|2|2|2|2|2|1|2|2|2|2|2|2|1|\n",
    "\n",
    "A partir de estas $C's$ y $D's$ se obtienen las 16 subllaves $K_i$ concatenando $D_i$ luego de $C_i$ y permutando 48 de sus bits de acuerdo a una función $PC-2$. Es decir que $K_i=PC-2(C_iD_i)$.\n",
    "\n",
    "![PC-2](./img/PC-2.png)\n",
    "\n",
    "Probemos la creación de subllaves en python:"
   ]
  },
  {
   "cell_type": "code",
   "execution_count": 1,
   "metadata": {
    "collapsed": false
   },
   "outputs": [],
   "source": [
    "k = b\"mi llave\" #elegimos una llave de 8 bytes o letras\n",
    "\n",
    "pc1 = [56, 48, 40, 32, 24, 16,  8,\n",
    "  0, 57, 49, 41, 33, 25, 17,\n",
    "  9,  1, 58, 50, 42, 34, 26,\n",
    " 18, 10,  2, 59, 51, 43, 35,\n",
    " 62, 54, 46, 38, 30, 22, 14,\n",
    "  6, 61, 53, 45, 37, 29, 21,\n",
    " 13,  5, 60, 52, 44, 36, 28,\n",
    " 20, 12,  4, 27, 19, 11,  3]\n",
    "\n",
    "left_rotations = [1, 1, 2, 2, 2, 2, 2, 2, 1, 2, 2, 2, 2, 2, 2, 1]\n",
    "\n",
    "pc2 = [\n",
    "13, 16, 10, 23,  0,  4,\n",
    " 2, 27, 14,  5, 20,  9,\n",
    "22, 18, 11,  3, 25,  7,\n",
    "15,  6, 26, 19, 12,  1,\n",
    "40, 51, 30, 36, 46, 54,\n",
    "29, 39, 50, 44, 32, 47,\n",
    "43, 48, 38, 55, 33, 52,\n",
    "45, 41, 49, 35, 28, 31]\n",
    "\n",
    "l = len(k) * 8 #convertimos la llave a un arreglo de bits\n",
    "K = [0] * l\n",
    "pos = 0\n",
    "for ch in k:\n",
    "\ti = 7\n",
    "\twhile i >= 0:\n",
    "\t\tif ch & (1 << i) != 0:\n",
    "\t\t\tK[pos] = 1\n",
    "\t\telse:\n",
    "\t\t\tK[pos] = 0\n",
    "\t\tpos += 1\n",
    "\t\ti -= 1"
   ]
  },
  {
   "cell_type": "markdown",
   "metadata": {},
   "source": [
    "Ahora permutamos con $PC-1$ y dividimos en dos partes."
   ]
  },
  {
   "cell_type": "code",
   "execution_count": 2,
   "metadata": {
    "collapsed": false
   },
   "outputs": [],
   "source": [
    "k0 = list(map(lambda x: K[x], pc1))\n",
    "\n",
    "C = k0[:28]\n",
    "D = k0[28:]"
   ]
  },
  {
   "cell_type": "markdown",
   "metadata": {},
   "source": [
    "Ahora iteramos los $C_i's$ y $D_i's$ obteniendo las 16 subllaves en el arreglo Kn."
   ]
  },
  {
   "cell_type": "code",
   "execution_count": 3,
   "metadata": {
    "collapsed": false
   },
   "outputs": [],
   "source": [
    "Kn = [0]*16\n",
    "for i in range(16):\n",
    "    for j in range(left_rotations[i]): #rotación izquierda de acuerdo a la i\n",
    "        C.append(C[0])\n",
    "        del C[0]\n",
    "        D.append(D[0])\n",
    "        del D[0]\n",
    "    CD = C + D #concatenación\n",
    "    Kn[i] = list(map(lambda x: CD[x], pc2)) #aplicación de la permutación"
   ]
  },
  {
   "cell_type": "markdown",
   "metadata": {},
   "source": [
    "## Cifrado\n",
    "\n",
    "Como se había mencionado, primero se añade los bits suficientes para que el mensaje tenga un número de bits múltiplo de 64. Veremos lo que le ocurre a cada bloque de 64 bits.\n",
    "\n",
    "El primer paso es una permutación inicial llamada $IP$ y luego se divide el resultado en los primeros 32 bits nombrados $L_0$ y los últimos 32 bits nombrados $R_0$. Esto significa que $IP(m)=L_0R_0$.\n",
    "\n",
    "![IP](./img/IP.png)\n",
    "\n",
    "Después iteramos para obtener los siguientes 16 $L_i's$ y $R_i's$. El proceso es por un lado $L_i=R_{i-1}$ y por otro $R_i=L_{i-1}\\oplus f(R_{i-1},K_i)$, donde $\\oplus$ representa la operación $XOR$ bit a bit y $f$ es una función llamada de Feistel que será discutida a detalle. La última pareja se concatena de manera opuesta a la inicial y se hace pasar por la permutación inversa a la inicial para obtener el mensaje encriptado. Es decir que $c=IP^{-1}(R_{16}L_{16})$\n",
    "\n",
    "### Feistel\n",
    "\n",
    "La función f de Feistel toma primero el bloque $R_{i-1}$ y lo expande a ser de 48 bits a través de una permutación que repite algunos de sus elementos. Esta permutación se llama $E$.\n",
    "\n",
    "![E](./img/E.png)\n",
    "\n",
    "Luego hacemos $XOR$ bit a bit del resultado anterior y la subllave $K_i$ y lo dividimos en 8 partes de 6 bits cada una. Es decir que $E(R_{i-1})\\oplus K_i=B_1B_2B_3B_4B_5B_6$. Sabemos que cada $B_i$ es de 6 bits así que podemos escribirlo como $B_i=b_1b_2b_3b_4b_5b_6$. Cada $B_i$ será sustituido por un valor de 4 bits elegido a partir de una, así llamada, caja de sustitución o S-box. Hay una caja distinta por cada $B_i$. La manera de elegir el valor de la caja es tomar el renglón $b_1b_6+1$ y la columna $b_2b_3b_4b_5+1$, tomando en cuenta que el número estará en escrito en binario. Por ejemplo 101010 nos devolverá el cuarto renglón y sexta columna. Mostramos aquí las S-boxes.\n",
    "\n",
    "![S-boxes](./img/S-boxes.png)\n",
    "\n",
    "Por último concatenamos los resultados de las cajas y los pasamos por una última permutación P.\n",
    "\n",
    "![P](./img/P.png)\n",
    "\n",
    "Veamos este cifrado en acción. Comenzamos por completar el mensaje a encriptar."
   ]
  },
  {
   "cell_type": "code",
   "execution_count": 4,
   "metadata": {
    "collapsed": false
   },
   "outputs": [
    {
     "data": {
      "text/plain": [
       "b'Este es mi mensaje\\x00\\x00\\x00\\x00\\x00\\x00'"
      ]
     },
     "execution_count": 4,
     "metadata": {},
     "output_type": "execute_result"
    }
   ],
   "source": [
    "m = b\"Este es mi mensaje\" #puedes insertar cualquier mensaje\n",
    "\n",
    "while len(m) % 8 != 0: #completamos para que sea múltiplo de 64 bits\n",
    "    m += b'\\x00'\n",
    "    \n",
    "m"
   ]
  },
  {
   "cell_type": "markdown",
   "metadata": {},
   "source": [
    "Veremos el procesos con sólo uno de los bloques de 64 bits. Haremos la permutación y dividiremos en dos partes."
   ]
  },
  {
   "cell_type": "code",
   "execution_count": 5,
   "metadata": {
    "collapsed": false
   },
   "outputs": [],
   "source": [
    "ip = [57, 49, 41, 33, 25, 17, 9,  1,\n",
    "        59, 51, 43, 35, 27, 19, 11, 3,\n",
    "        61, 53, 45, 37, 29, 21, 13, 5,\n",
    "        63, 55, 47, 39, 31, 23, 15, 7,\n",
    "        56, 48, 40, 32, 24, 16, 8,  0,\n",
    "        58, 50, 42, 34, 26, 18, 10, 2,\n",
    "        60, 52, 44, 36, 28, 20, 12, 4,\n",
    "        62, 54, 46, 38, 30, 22, 14, 6]\n",
    "\n",
    "mb = m[:8] #tomamos el primer bloque y lo convertimos a un arreglo de bits\n",
    "l = len(mb) * 8\n",
    "res = [0] * l\n",
    "pos = 0\n",
    "for ch in mb:\n",
    "\ti = 7\n",
    "\twhile i >= 0:\n",
    "\t\tif ch & (1 << i) != 0:\n",
    "\t\t\tres[pos] = 1\n",
    "\t\telse:\n",
    "\t\t\tres[pos] = 0\n",
    "\t\tpos += 1\n",
    "\t\ti -= 1\n",
    "mb = res\n",
    "\n",
    "m0 = list(map(lambda x: mb[x], ip)) #aplicamos la permutación inicial\n",
    "\n",
    "L = m0[:32] #dividimos en 2 partes\n",
    "R = m0[32:]"
   ]
  },
  {
   "cell_type": "markdown",
   "metadata": {},
   "source": [
    "Ahora veremos como hacer las iteraciones de los $L_i's$ y $R_i's$"
   ]
  },
  {
   "cell_type": "code",
   "execution_count": 6,
   "metadata": {
    "collapsed": false
   },
   "outputs": [],
   "source": [
    "expansion_table = [31,  0,  1,  2,  3,  4,\n",
    "         3,  4,  5,  6,  7,  8,\n",
    "         7,  8,  9, 10, 11, 12,\n",
    "        11, 12, 13, 14, 15, 16,\n",
    "        15, 16, 17, 18, 19, 20,\n",
    "        19, 20, 21, 22, 23, 24,\n",
    "        23, 24, 25, 26, 27, 28,\n",
    "        27, 28, 29, 30, 31,  0]\n",
    "\n",
    "p = [15, 6, 19, 20, 28, 11,\n",
    "        27, 16, 0, 14, 22, 25,\n",
    "        4, 17, 30, 9, 1, 7,\n",
    "        23,13, 31, 26, 2, 8,\n",
    "        18, 12, 29, 5, 21, 10,\n",
    "        3, 24]\n",
    "\n",
    "sbox = [\n",
    "\t\t# S1\n",
    "\t\t[14, 4, 13, 1, 2, 15, 11, 8, 3, 10, 6, 12, 5, 9, 0, 7,\n",
    "\t\t 0, 15, 7, 4, 14, 2, 13, 1, 10, 6, 12, 11, 9, 5, 3, 8,\n",
    "\t\t 4, 1, 14, 8, 13, 6, 2, 11, 15, 12, 9, 7, 3, 10, 5, 0,\n",
    "\t\t 15, 12, 8, 2, 4, 9, 1, 7, 5, 11, 3, 14, 10, 0, 6, 13],\n",
    "\n",
    "\t\t# S2\n",
    "\t\t[15, 1, 8, 14, 6, 11, 3, 4, 9, 7, 2, 13, 12, 0, 5, 10,\n",
    "\t\t 3, 13, 4, 7, 15, 2, 8, 14, 12, 0, 1, 10, 6, 9, 11, 5,\n",
    "\t\t 0, 14, 7, 11, 10, 4, 13, 1, 5, 8, 12, 6, 9, 3, 2, 15,\n",
    "\t\t 13, 8, 10, 1, 3, 15, 4, 2, 11, 6, 7, 12, 0, 5, 14, 9],\n",
    "\n",
    "\t\t# S3\n",
    "\t\t[10, 0, 9, 14, 6, 3, 15, 5, 1, 13, 12, 7, 11, 4, 2, 8,\n",
    "\t\t 13, 7, 0, 9, 3, 4, 6, 10, 2, 8, 5, 14, 12, 11, 15, 1,\n",
    "\t\t 13, 6, 4, 9, 8, 15, 3, 0, 11, 1, 2, 12, 5, 10, 14, 7,\n",
    "\t\t 1, 10, 13, 0, 6, 9, 8, 7, 4, 15, 14, 3, 11, 5, 2, 12],\n",
    "\n",
    "\t\t# S4\n",
    "\t\t[7, 13, 14, 3, 0, 6, 9, 10, 1, 2, 8, 5, 11, 12, 4, 15,\n",
    "\t\t 13, 8, 11, 5, 6, 15, 0, 3, 4, 7, 2, 12, 1, 10, 14, 9,\n",
    "\t\t 10, 6, 9, 0, 12, 11, 7, 13, 15, 1, 3, 14, 5, 2, 8, 4,\n",
    "\t\t 3, 15, 0, 6, 10, 1, 13, 8, 9, 4, 5, 11, 12, 7, 2, 14],\n",
    "\n",
    "\t\t# S5\n",
    "\t\t[2, 12, 4, 1, 7, 10, 11, 6, 8, 5, 3, 15, 13, 0, 14, 9,\n",
    "\t\t 14, 11, 2, 12, 4, 7, 13, 1, 5, 0, 15, 10, 3, 9, 8, 6,\n",
    "\t\t 4, 2, 1, 11, 10, 13, 7, 8, 15, 9, 12, 5, 6, 3, 0, 14,\n",
    "\t\t 11, 8, 12, 7, 1, 14, 2, 13, 6, 15, 0, 9, 10, 4, 5, 3],\n",
    "\n",
    "\t\t# S6\n",
    "\t\t[12, 1, 10, 15, 9, 2, 6, 8, 0, 13, 3, 4, 14, 7, 5, 11,\n",
    "\t\t 10, 15, 4, 2, 7, 12, 9, 5, 6, 1, 13, 14, 0, 11, 3, 8,\n",
    "\t\t 9, 14, 15, 5, 2, 8, 12, 3, 7, 0, 4, 10, 1, 13, 11, 6,\n",
    "\t\t 4, 3, 2, 12, 9, 5, 15, 10, 11, 14, 1, 7, 6, 0, 8, 13],\n",
    "\n",
    "\t\t# S7\n",
    "\t\t[4, 11, 2, 14, 15, 0, 8, 13, 3, 12, 9, 7, 5, 10, 6, 1,\n",
    "\t\t 13, 0, 11, 7, 4, 9, 1, 10, 14, 3, 5, 12, 2, 15, 8, 6,\n",
    "\t\t 1, 4, 11, 13, 12, 3, 7, 14, 10, 15, 6, 8, 0, 5, 9, 2,\n",
    "\t\t 6, 11, 13, 8, 1, 4, 10, 7, 9, 5, 0, 15, 14, 2, 3, 12],\n",
    "\n",
    "\t\t# S8\n",
    "\t\t[13, 2, 8, 4, 6, 15, 11, 1, 10, 9, 3, 14, 5, 0, 12, 7,\n",
    "\t\t 1, 15, 13, 8, 10, 3, 7, 4, 12, 5, 6, 11, 0, 14, 9, 2,\n",
    "\t\t 7, 11, 4, 1, 9, 12, 14, 2, 0, 6, 10, 13, 15, 3, 5, 8,\n",
    "\t\t 2, 1, 14, 7, 4, 10, 8, 13, 15, 12, 9, 0, 3, 5, 6, 11],]\n",
    "\n",
    "for i in range(16): #hacemos 16 rondas\n",
    "\n",
    "    tempR = R #guardamos temporalmente la R de i-1\n",
    "\n",
    "    R = list(map(lambda x: R[x], expansion_table)) #expandimos la R\n",
    "\n",
    "    R = list(map(lambda x, y: x ^ y, R, Kn[i])) #hacemos XOR con la subllave\n",
    "    \n",
    "    B = [R[:6], R[6:12], R[12:18], R[18:24], R[24:30], R[30:36], R[36:42], R[42:]]\n",
    "    #dividimos en los pedazos de 6 bits\n",
    "    \n",
    "    Bn = [0] * 32\n",
    "    \n",
    "    for j in range(8): #Aplicamos las S-boxes\n",
    "        \n",
    "        m = (B[j][0] << 1) + B[j][5] #encontramos el valor a sustituir en las S-boxes\n",
    "        n = (B[j][1] << 3) + (B[j][2] << 2) + (B[j][3] << 1) + B[j][4]\n",
    "        v = sbox[j][(m << 4) + n]\n",
    "        \n",
    "        Bn[4 * j] = (v & 8) >> 3 #convertimos a bits y concatenamos el resultado de las cajas\n",
    "        Bn[4 * j + 1] = (v & 4) >> 2\n",
    "        Bn[4 * j + 2] = (v & 2) >> 1\n",
    "        Bn[4 * j + 3] = v & 1\n",
    "        \n",
    "    R = list(map(lambda x: R[x], p)) #aplicamos la permutación P\n",
    "    \n",
    "    R = list(map(lambda x, y: x ^ y, R, L)) #hacemos XOR con L i-1 y obtenemos Ri\n",
    "    \n",
    "    L = tempR #igualamos el nuevo L al viejo R"
   ]
  },
  {
   "cell_type": "markdown",
   "metadata": {},
   "source": [
    "Por último sabemos que debemos concatenar $R_i$ con $L_i$ y permutarlo con la inversa de la inicial."
   ]
  },
  {
   "cell_type": "code",
   "execution_count": 7,
   "metadata": {
    "collapsed": false
   },
   "outputs": [
    {
     "name": "stdout",
     "output_type": "stream",
     "text": [
      "b'\\x8a\\xaa\\xca\\x1f\\xc3j\\xb4\\xeb'\n"
     ]
    }
   ],
   "source": [
    "fp = [39,  7, 47, 15, 55, 23, 63, 31,\n",
    "        38,  6, 46, 14, 54, 22, 62, 30,\n",
    "        37,  5, 45, 13, 53, 21, 61, 29,\n",
    "        36,  4, 44, 12, 52, 20, 60, 28,\n",
    "        35,  3, 43, 11, 51, 19, 59, 27,\n",
    "        34,  2, 42, 10, 50, 18, 58, 26,\n",
    "        33,  1, 41,  9, 49, 17, 57, 25,\n",
    "        32,  0, 40,  8, 48, 16, 56, 24]\n",
    "\n",
    "RL = R + L\n",
    "final = list(map(lambda x: RL[x], fp))\n",
    "\n",
    "ints = [] #pasamos a bytes el resultado\n",
    "c=0\n",
    "for i in range(len(final)):\n",
    "    c += final[i] << (7 - (i % 8))\n",
    "    if (i % 8) == 7:\n",
    "        ints.append(c)\n",
    "        c = 0\n",
    "crypt = bytes(ints)\n",
    "print (crypt)"
   ]
  },
  {
   "cell_type": "markdown",
   "metadata": {},
   "source": [
    "El resultado puede consistir de letras o de bytes que no representan una letra en el estándar internacional. Estos bytes se verán como \\x## donde el ## es el número que representa el byte escrito en hexadecimal.\n",
    "\n",
    "## Desencriptar\n",
    "\n",
    "El algoritmo para desencriptar es el mismo que el algoritmo para desencriptar. La diferencia es que para desencriptar debo usar las subllaves creadas en orden inverso a la versión de encriptado.\n",
    "\n",
    "### Ejemplo\n",
    "\n",
    "Usaremos el mismo bloque de mensaje usado arriba. Ya no explicaremos los pasos, a excepción de la inversión del orden de las llaves."
   ]
  },
  {
   "cell_type": "code",
   "execution_count": 8,
   "metadata": {
    "collapsed": false
   },
   "outputs": [
    {
     "name": "stdout",
     "output_type": "stream",
     "text": [
      "b'Este es '\n"
     ]
    }
   ],
   "source": [
    "l = len(crypt) * 8\n",
    "res = [0] * l\n",
    "pos = 0\n",
    "for ch in crypt:\n",
    "    i = 7\n",
    "    while i >= 0:\n",
    "        if ch & (1 << i) != 0:\n",
    "            res[pos] = 1\n",
    "        else:\n",
    "            res[pos] = 0\n",
    "        pos += 1\n",
    "        i -= 1\n",
    "crp = list(map(lambda x: res[x], ip)) \n",
    "L = crp[:32] \n",
    "R = crp[32:]\n",
    "for i in range(16): \n",
    "    tempR = R \n",
    "    R = list(map(lambda x: R[x], expansion_table))\n",
    "    R = list(map(lambda x, y: x ^ y, R, Kn[15-i])) #Aquí revertimos el orden de las llaves\n",
    "    B = [R[:6], R[6:12], R[12:18], R[18:24], R[24:30], R[30:36], R[36:42], R[42:]]\n",
    "    Bn = [0] * 32\n",
    "    for j in range(8): \n",
    "        m = (B[j][0] << 1) + B[j][5] \n",
    "        n = (B[j][1] << 3) + (B[j][2] << 2) + (B[j][3] << 1) + B[j][4]\n",
    "        v = sbox[j][(m << 4) + n]\n",
    "        Bn[4 * j] = (v & 8) >> 3 \n",
    "        Bn[4 * j + 1] = (v & 4) >> 2\n",
    "        Bn[4 * j + 2] = (v & 2) >> 1\n",
    "        Bn[4 * j + 3] = v & 1\n",
    "    R = list(map(lambda x: R[x], p)) \n",
    "    R = list(map(lambda x, y: x ^ y, R, L)) \n",
    "    L = tempR \n",
    "RL = R + L\n",
    "final = list(map(lambda x: RL[x], fp))\n",
    "ints = [] \n",
    "c=0\n",
    "for i in range(len(final)):\n",
    "    c += final[i] << (7 - (i % 8))\n",
    "    if (i % 8) == 7:\n",
    "        ints.append(c)\n",
    "        c = 0\n",
    "decrypt = bytes(ints)\n",
    "print (decrypt)"
   ]
  },
  {
   "cell_type": "markdown",
   "metadata": {
    "collapsed": true
   },
   "source": [
    "Como podemos ver, invertir el orden de las subllaves fue suficiente para devolver el mensaje desencriptado."
   ]
  }
 ],
 "metadata": {
  "anaconda-cloud": {},
  "kernelspec": {
   "display_name": "Python [conda root]",
   "language": "python",
   "name": "conda-root-py"
  },
  "language_info": {
   "codemirror_mode": {
    "name": "ipython",
    "version": 3
   },
   "file_extension": ".py",
   "mimetype": "text/x-python",
   "name": "python",
   "nbconvert_exporter": "python",
   "pygments_lexer": "ipython3",
   "version": "3.5.2"
  }
 },
 "nbformat": 4,
 "nbformat_minor": 1
}
