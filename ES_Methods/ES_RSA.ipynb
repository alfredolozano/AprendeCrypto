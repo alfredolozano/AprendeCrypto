{
 "cells": [
  {
   "cell_type": "markdown",
   "metadata": {
    "collapsed": true
   },
   "source": [
    "<h1> RSA (Rivest Shamir Adleman)\n"
   ]
  },
  {
   "cell_type": "markdown",
   "metadata": {},
   "source": [
    "RSA es el criptosistema de llave pública mas utilizado. Fue el primero en ser desarrollado (1977), y hasta la fecha sigue en uso para cifrar y para firmas digitales.\n",
    "\n",
    "Su seguridad radica en la factorización de su llave \"n\", la cual se toma \"muy grande\" para aumentar la seguridad. \n",
    "El método consiste en:\n",
    "\n",
    "  **1) Tomar dos número primos muy grandes (mínimo de orden 10^200, mientras más grandes sean, mas seguridad) p y q.**\n",
    "  \n",
    "  **2) Definir $n=p*q$ **\n",
    "  \n",
    "  **3) Se define $\\phi(n)= (p-1)(q-1)$**\n",
    "  \n",
    "  **4) Se escoge e un número aleatorio, no tan pequeño que sea primo relativo con $\\phi(n)$, es decir: $(e;\\phi(n))=1$**\n",
    "  \n",
    "  **5) Se cálcula (d) el inverso multiplicativo de e modulo $\\phi(n)$, es decir, $\\ e*d\\ \\equiv\\ 1\\ mod\\ \\phi(n)$**\n",
    "  \n",
    "  **6) Se hacen públicos e y n; se quedan privados: p,q,d,phi(n).**\n",
    "  \n",
    "  **7) Para encriptar: se toma el texto, y se hace:  $\\ texto^e\\ mod \\ n \\equiv c$**\n",
    "  \n",
    "  **8) Para desencriptar: se toma el texto cifrado (c), y se hace: $ \\ c^d \\ mod \\ n \\equiv texto$**\n",
    "  \n",
    "  \n",
    "  \n",
    "  "
   ]
  },
  {
   "cell_type": "markdown",
   "metadata": {},
   "source": [
    "<h3> Ejemplo:"
   ]
  },
  {
   "cell_type": "markdown",
   "metadata": {},
   "source": [
    " RSA es actualmente muy usuado para el intercambio de llaves, por lo tanto, vamos a encritpar la llave: \n",
    "\n",
    "                    \"DFHsdfkjsbdkfjbse823y4SBNDSJEr2j83bejfhbwjb4riu3g49kdjbf3\""
   ]
  },
  {
   "cell_type": "code",
   "execution_count": 189,
   "metadata": {
    "collapsed": false
   },
   "outputs": [
    {
     "name": "stdout",
     "output_type": "stream",
     "text": [
      "[45, 47, 49, 92, 77, 79, 84, 83, 92, 75, 77, 84, 79, 83, 75, 92, 78, 33, 27, 28, 98, 29, 60, 43, 55, 45, 60, 51, 46, 91, 27, 83, 33, 28, 75, 78, 83, 79, 81, 75, 96, 83, 75, 29, 91, 82, 94, 28, 80, 29, 34, 84, 77, 83, 75, 79, 28]\n",
      "454749927779848392757784798375927833272898296043554560514691278333287578837981759683752991829428802934847783757928\n"
     ]
    }
   ],
   "source": [
    "message1='DFHsdfkjsbdkfjbse823y4SBNDSJEr2j83bejfhbwjb4riu3g49kdjbf3'\n",
    "message1= list(message1)\n",
    "numerical_message = [\n",
    "    ord(letter) - 23\n",
    "    for letter in message1\n",
    "]\n",
    "print(numerical_message)\n",
    "b=[str(x) for x in numerical_message]\n",
    "c=''.join(b)\n",
    "print (c)\n",
    "text=int(c)"
   ]
  },
  {
   "cell_type": "code",
   "execution_count": 190,
   "metadata": {
    "collapsed": false
   },
   "outputs": [
    {
     "name": "stdout",
     "output_type": "stream",
     "text": [
      "820351324006615671417223088174157363015382005755679655876184421130390030860672317361245942420844809624065947950019296609813329203017736027399241888278556845916720665140283151\n"
     ]
    }
   ],
   "source": [
    "import decimal\n",
    "\n",
    "p=982739872934872983479283749823749827349827349827394872394871029809823659827342342353463574439\n",
    "q=834759376921079764867528737493048509286387469287304983045892685673485967364958809\n",
    "n=p*q\n",
    "print (n)"
   ]
  },
  {
   "cell_type": "code",
   "execution_count": 191,
   "metadata": {
    "collapsed": false
   },
   "outputs": [
    {
     "name": "stdout",
     "output_type": "stream",
     "text": [
      "820351324006615671417223088174157363015382005755679655876184421130390030860672316378506069485137066767861118361401940522492930866336476163240907095409004332900892344311749904\n"
     ]
    }
   ],
   "source": [
    "phin=(p-1)*(q-1)\n",
    "print (phin)\n"
   ]
  },
  {
   "cell_type": "code",
   "execution_count": 192,
   "metadata": {
    "collapsed": false
   },
   "outputs": [
    {
     "name": "stdout",
     "output_type": "stream",
     "text": [
      "387468273641\n"
     ]
    }
   ],
   "source": [
    "e=387468273641\n",
    "print (e)"
   ]
  },
  {
   "cell_type": "code",
   "execution_count": 193,
   "metadata": {
    "collapsed": false
   },
   "outputs": [
    {
     "name": "stdout",
     "output_type": "stream",
     "text": [
      "333711814420782521447538993691578777430478083694146156817873482054798632245663167810303837540270005666143420635499387036957246011557198557657033196127670011153548612702013097\n"
     ]
    }
   ],
   "source": [
    "def extended_gcd(aa, bb):\n",
    "    lastremainder, remainder = abs(aa), abs(bb)\n",
    "    x, lastx, y, lasty = 0, 1, 1, 0\n",
    "    while remainder:\n",
    "        lastremainder, (quotient, remainder) = remainder, divmod(lastremainder, remainder)\n",
    "        x, lastx = lastx - quotient*x, x\n",
    "        y, lasty = lasty - quotient*y, y\n",
    "    return lastremainder, lastx * (-1 if aa < 0 else 1), lasty * (-1 if bb < 0 else 1)\n",
    "def modinv(a, m):\n",
    "    g, x, y = extended_gcd(a, m)\n",
    "    if g != 1:\n",
    "        raise ValueError\n",
    "    return x % m\n",
    "d=modinv(387468273641,phin)\n",
    "print (d)"
   ]
  },
  {
   "cell_type": "markdown",
   "metadata": {},
   "source": [
    "## Para encriptar ##"
   ]
  },
  {
   "cell_type": "code",
   "execution_count": 194,
   "metadata": {
    "collapsed": false
   },
   "outputs": [
    {
     "name": "stdout",
     "output_type": "stream",
     "text": [
      "762282898008287100943921706393710993519792783494430351911281888778384309812171043093713457983828295302304709017947886989305277931937770953584107941226886994084859432281157629\n"
     ]
    }
   ],
   "source": [
    "texto_cifrado=pow(text,e,n)\n",
    "print (texto_cifrado)\n",
    "\n"
   ]
  },
  {
   "cell_type": "markdown",
   "metadata": {},
   "source": [
    "## Para desencriptar ##"
   ]
  },
  {
   "cell_type": "code",
   "execution_count": 195,
   "metadata": {
    "collapsed": false
   },
   "outputs": [
    {
     "name": "stdout",
     "output_type": "stream",
     "text": [
      "454749927779848392757784798375927833272898296043554560514691278333287578837981759683752991829428802934847783757928\n"
     ]
    }
   ],
   "source": [
    "texto_descifrado=pow(texto_cifrado,d,n)\n",
    "print (texto_descifrado)"
   ]
  },
  {
   "cell_type": "code",
   "execution_count": 196,
   "metadata": {
    "collapsed": false
   },
   "outputs": [
    {
     "name": "stdout",
     "output_type": "stream",
     "text": [
      "[45, 47, 49, 92, 77, 79, 84, 83, 92, 75, 77, 84, 79, 83, 75, 92, 78, 33, 27, 28, 98, 29, 60, 43, 55, 45, 60, 51, 46, 91, 27, 83, 33, 28, 75, 78, 83, 79, 81, 75, 96, 83, 75, 29, 91, 82, 94, 28, 80, 29, 34, 84, 77, 83, 75, 79, 28]\n",
      "\n",
      "DFHsdfkjsbdkfjbse823y4SBNDSJEr2j83bejfhbwjb4riu3g49kdjbf3\n"
     ]
    }
   ],
   "source": [
    "s = str(texto_descifrado)\n",
    "lengthfl=(len(s)+1)/2\n",
    "length=int(lengthfl)\n",
    "\n",
    "c=[]\n",
    "for i in range(0,length): \n",
    "    c.append(''.join(s[2*i:2*i+2])) \n",
    "cint=[int(x) for x in c]\n",
    "\n",
    "print(cint)\n",
    "print('')\n",
    "\n",
    "cypher_text = [\n",
    "    chr(letter + 23)\n",
    "    for letter in cint]\n",
    "\n",
    "finaltext=''.join(cypher_text)\n",
    "print(finaltext)\n"
   ]
  },
  {
   "cell_type": "code",
   "execution_count": null,
   "metadata": {
    "collapsed": true
   },
   "outputs": [],
   "source": []
  }
 ],
 "metadata": {
  "anaconda-cloud": {},
  "kernelspec": {
   "display_name": "Python [conda root]",
   "language": "python",
   "name": "conda-root-py"
  },
  "language_info": {
   "codemirror_mode": {
    "name": "ipython",
    "version": 3
   },
   "file_extension": ".py",
   "mimetype": "text/x-python",
   "name": "python",
   "nbconvert_exporter": "python",
   "pygments_lexer": "ipython3",
   "version": "3.5.2"
  }
 },
 "nbformat": 4,
 "nbformat_minor": 1
}
