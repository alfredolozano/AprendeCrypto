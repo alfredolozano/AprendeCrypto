{
 "cells": [
  {
   "cell_type": "markdown",
   "metadata": {
    "collapsed": true
   },
   "source": [
    "<h1> RSA (Rivest Shamir Adleman)\n"
   ]
  },
  {
   "cell_type": "markdown",
   "metadata": {},
   "source": [
    "___________"
   ]
  },
  {
   "cell_type": "markdown",
   "metadata": {},
   "source": [
    "RSA es el criptosistema de llave pública mas utilizado. Fue el primero en ser desarrollado (1977), y hasta la fecha sigue en uso para cifrar y para firmas digitales.\n",
    "\n",
    "Puede verse que las debilidades del método radican en la cpacidad para factorizar su llave $n$, por lo que existen características como ser \"suficientemente grande\" y que $n-1$ sea el producto de algun primo grande. \n",
    "\n",
    "El método consiste en:\n",
    "\n",
    "  *1) Tomar dos primos \"grandes\" (mínimo de orden $10^200$) $p$ y $q$.*\n",
    "  \n",
    "  *2) Definir $n=p*q$ *\n",
    " \n",
    "  *3) Se define $\\phi(n)= (p-1)(q-1)$*\n",
    "  \n",
    "  *4) Se escoge $e$ un número aleatorio, no tan pequeño que sea primo relativo con $\\phi(n)$, es decir: $(e;\\phi(n))=1$*\n",
    "  \n",
    "  *5) Se cálcula $(d)$ el inverso multiplicativo de e modulo $\\phi(n)$, es decir, $\\ e*d\\ \\equiv\\ 1\\ mod\\ \\phi(n)$*\n",
    "  \n",
    "  *6) Se hacen públicos $e$ y $n$; se quedan privados: $p,q,d,\\phi(n)$.*\n",
    " \n",
    "  *7) Para encriptar: se toma el texto, y se hace:  $\\ texto^e\\ mod \\ n \\equiv c$*\n",
    "  \n",
    "  *8) Para desencriptar: se toma el texto cifrado $(c)$, y se hace: $ \\ c^d \\ mod \\ n \\equiv texto$*\n",
    "  \n",
    "  \n",
    "  \n",
    "  "
   ]
  },
  {
   "cell_type": "markdown",
   "metadata": {},
   "source": [
    "__________"
   ]
  },
  {
   "cell_type": "markdown",
   "metadata": {},
   "source": [
    "<h3> Ejemplo:"
   ]
  },
  {
   "cell_type": "markdown",
   "metadata": {},
   "source": [
    " RSA es actualmente muy usuado para el intercambio de llaves, por lo tanto, vamos a encritpar el mensaje: \n",
    "\n",
    "                    \"Mandela no tuvo nada que ver\""
   ]
  },
  {
   "cell_type": "code",
   "execution_count": 9,
   "metadata": {
    "collapsed": false
   },
   "outputs": [
    {
     "name": "stdout",
     "output_type": "stream",
     "text": [
      "[54, 74, 87, 77, 78, 85, 74, 87, 88, 93, 94, 95, 88, 87, 74, 77, 74, 90, 94, 78, 95, 78, 91]\n",
      "5474877778857487889394958887747774909478957891\n"
     ]
    }
   ],
   "source": [
    "message1='Mandela no tuvo nada que ver'\n",
    "message1 = message1.replace(' ','') # Quitamos los espacios\n",
    "message1= list(message1)\n",
    "numerical_message = [\n",
    "    ord(letter) - 23\n",
    "    for letter in message1\n",
    "]\n",
    "print(numerical_message)\n",
    "b=[str(x) for x in numerical_message]\n",
    "c=''.join(b)\n",
    "print (c)\n",
    "text=int(c)"
   ]
  },
  {
   "cell_type": "code",
   "execution_count": 10,
   "metadata": {
    "collapsed": false
   },
   "outputs": [
    {
     "name": "stdout",
     "output_type": "stream",
     "text": [
      "820351324006615671417223088174157363015382005755679655876184421130390030860672317361245942420844809624065947950019296609813329203017736027399241888278556845916720665140283151\n"
     ]
    }
   ],
   "source": [
    "import decimal\n",
    "\n",
    "p=982739872934872983479283749823749827349827349827394872394871029809823659827342342353463574439\n",
    "q=834759376921079764867528737493048509286387469287304983045892685673485967364958809\n",
    "n=p*q\n",
    "print (n)"
   ]
  },
  {
   "cell_type": "code",
   "execution_count": 11,
   "metadata": {
    "collapsed": false
   },
   "outputs": [
    {
     "name": "stdout",
     "output_type": "stream",
     "text": [
      "820351324006615671417223088174157363015382005755679655876184421130390030860672316378506069485137066767861118361401940522492930866336476163240907095409004332900892344311749904\n"
     ]
    }
   ],
   "source": [
    "phin=(p-1)*(q-1)\n",
    "print (phin)\n"
   ]
  },
  {
   "cell_type": "code",
   "execution_count": 12,
   "metadata": {
    "collapsed": false
   },
   "outputs": [
    {
     "name": "stdout",
     "output_type": "stream",
     "text": [
      "387468273641\n"
     ]
    }
   ],
   "source": [
    "e=387468273641\n",
    "print (e)"
   ]
  },
  {
   "cell_type": "code",
   "execution_count": 13,
   "metadata": {
    "collapsed": false
   },
   "outputs": [
    {
     "name": "stdout",
     "output_type": "stream",
     "text": [
      "333711814420782521447538993691578777430478083694146156817873482054798632245663167810303837540270005666143420635499387036957246011557198557657033196127670011153548612702013097\n"
     ]
    }
   ],
   "source": [
    "def extended_gcd(aa, bb):\n",
    "    lastremainder, remainder = abs(aa), abs(bb)\n",
    "    x, lastx, y, lasty = 0, 1, 1, 0\n",
    "    while remainder:\n",
    "        lastremainder, (quotient, remainder) = remainder, divmod(lastremainder, remainder)\n",
    "        x, lastx = lastx - quotient*x, x\n",
    "        y, lasty = lasty - quotient*y, y\n",
    "    return lastremainder, lastx * (-1 if aa < 0 else 1), lasty * (-1 if bb < 0 else 1)\n",
    "def modinv(a, m):\n",
    "    g, x, y = extended_gcd(a, m)\n",
    "    if g != 1:\n",
    "        raise ValueError\n",
    "    return x % m\n",
    "d=modinv(387468273641,phin)\n",
    "print (d)"
   ]
  },
  {
   "cell_type": "markdown",
   "metadata": {},
   "source": [
    "## Para encriptar ##"
   ]
  },
  {
   "cell_type": "code",
   "execution_count": 14,
   "metadata": {
    "collapsed": false
   },
   "outputs": [
    {
     "name": "stdout",
     "output_type": "stream",
     "text": [
      "137275950891831105233454752114199724124153945688813327534355858325342138485135480792824571166925294365986815134527092639727954081590493215062510318747111670833801566380737150\n"
     ]
    }
   ],
   "source": [
    "texto_cifrado=pow(text,e,n)\n",
    "print (texto_cifrado)\n",
    "\n"
   ]
  },
  {
   "cell_type": "markdown",
   "metadata": {},
   "source": [
    "## Para desencriptar ##"
   ]
  },
  {
   "cell_type": "code",
   "execution_count": 15,
   "metadata": {
    "collapsed": false
   },
   "outputs": [
    {
     "name": "stdout",
     "output_type": "stream",
     "text": [
      "5474877778857487889394958887747774909478957891\n"
     ]
    }
   ],
   "source": [
    "texto_descifrado=pow(texto_cifrado,d,n)\n",
    "print (texto_descifrado)"
   ]
  },
  {
   "cell_type": "code",
   "execution_count": 16,
   "metadata": {
    "collapsed": false
   },
   "outputs": [
    {
     "name": "stdout",
     "output_type": "stream",
     "text": [
      "[54, 74, 87, 77, 78, 85, 74, 87, 88, 93, 94, 95, 88, 87, 74, 77, 74, 90, 94, 78, 95, 78, 91]\n",
      "\n",
      "Mandelanotuvonadaquever\n"
     ]
    }
   ],
   "source": [
    "s = str(texto_descifrado)\n",
    "lengthfl=(len(s)+1)/2\n",
    "length=int(lengthfl)\n",
    "\n",
    "c=[]\n",
    "for i in range(0,length): \n",
    "    c.append(''.join(s[2*i:2*i+2])) \n",
    "cint=[int(x) for x in c]\n",
    "\n",
    "print(cint)\n",
    "print('')\n",
    "\n",
    "cypher_text = [\n",
    "    chr(letter + 23)\n",
    "    for letter in cint]\n",
    "\n",
    "finaltext=''.join(cypher_text)\n",
    "print(finaltext)\n"
   ]
  }
 ],
 "metadata": {
  "anaconda-cloud": {},
  "kernelspec": {
   "display_name": "Python 3",
   "language": "python",
   "name": "python3"
  },
  "language_info": {
   "codemirror_mode": {
    "name": "ipython",
    "version": 3
   },
   "file_extension": ".py",
   "mimetype": "text/x-python",
   "name": "python",
   "nbconvert_exporter": "python",
   "pygments_lexer": "ipython3",
   "version": "3.5.2"
  }
 },
 "nbformat": 4,
 "nbformat_minor": 1
}
