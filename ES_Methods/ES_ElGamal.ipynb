{
 "cells": [
  {
   "cell_type": "markdown",
   "metadata": {},
   "source": [
    "<h1> Intercambio de Llaves Diffie Hellman y El Gamal"
   ]
  },
  {
   "cell_type": "markdown",
   "metadata": {},
   "source": [
    "_________"
   ]
  },
  {
   "cell_type": "markdown",
   "metadata": {},
   "source": [
    "Los siguientes cifrados, son alternativas al cifrado RSA para el intercambio de Llaves. La seguridad de ambos cifrados\n",
    "radica principalmente en el dificil cálculo del logaritmo discreto.\n",
    "\n",
    "El primero, el cifrado de Diffie - Hellman, fue establecido por Whitfield Diffie y Martin Hellman. Consiste en lo siguiente: ($Z_p$)\n",
    "         \n",
    "1. Alicia escoge un grupo $Z_p$ y un generador $<g>$, igualmente escoge una llave privada a. \n",
    "2. Alicia cálcula $A\\ \\equiv \\ g^a\\ mod\\ p$ y le manda A a Bob.\n",
    "3. Bob teniendo su llave privada $(b)$ y teniendo $g$ y $Z_p$, los cuales son públicos, cálcula $\\ B \\equiv g^b\\ mod\\ p$.\n",
    "4. Bob le manda $B$ a alicia.\n",
    "5. Alicia hace $B^a=g^{ab}$ y bob hace $A^b=g^{ab}$.\n",
    "6. Ambos obtienen la misma llave.\n"
   ]
  },
  {
   "cell_type": "markdown",
   "metadata": {},
   "source": [
    "<h2> Ejemplo: (Intercambiemos Llaves)\n"
   ]
  },
  {
   "cell_type": "markdown",
   "metadata": {},
   "source": [
    "![Figure 1](./img/DH.png)\n",
    "\n",
    "Alicia escoge $g=13$ en $Z_{37124508045065437}$.\n",
    "\n",
    "Escoge su llave privada $a=12736871092846$"
   ]
  },
  {
   "cell_type": "code",
   "execution_count": 2,
   "metadata": {
    "collapsed": false
   },
   "outputs": [
    {
     "name": "stdout",
     "output_type": "stream",
     "text": [
      "a = 12736871092846\n",
      "g = 13\n",
      "p = 37124508045065437\n"
     ]
    }
   ],
   "source": [
    "a=12736871092846\n",
    "g=13\n",
    "p=37124508045065437\n",
    "print (\"a =\",a)\n",
    "print (\"g =\",g)\n",
    "print (\"p =\",p)"
   ]
  },
  {
   "cell_type": "markdown",
   "metadata": {},
   "source": [
    "Alicia calcula $\\ A \\equiv \\ g^a\\ mod\\ p$ y se lo manda a Bob."
   ]
  },
  {
   "cell_type": "code",
   "execution_count": 3,
   "metadata": {
    "collapsed": false
   },
   "outputs": [
    {
     "name": "stdout",
     "output_type": "stream",
     "text": [
      "A = 30384510001166445\n"
     ]
    }
   ],
   "source": [
    "A=pow(g,a,p)\n",
    "print (\"A =\",A)"
   ]
  },
  {
   "cell_type": "markdown",
   "metadata": {},
   "source": [
    "Bob escoge su llave privada $b=8763247901223$, calcula $\\ B \\equiv \\ g^b\\ mod\\ p$ y se lo manda a Alicia"
   ]
  },
  {
   "cell_type": "code",
   "execution_count": 4,
   "metadata": {
    "collapsed": false
   },
   "outputs": [
    {
     "name": "stdout",
     "output_type": "stream",
     "text": [
      "B = 20299696698362165\n"
     ]
    }
   ],
   "source": [
    "b=87632478723934\n",
    "B=pow(g,b,p)\n",
    "print (\"B =\",B)"
   ]
  },
  {
   "cell_type": "markdown",
   "metadata": {},
   "source": [
    "Alicia calcula $\\ B^a\\ mod\\ p$ y Bob calcula $\\ A^b\\ mod\\ p$.\n"
   ]
  },
  {
   "cell_type": "code",
   "execution_count": 5,
   "metadata": {
    "collapsed": false
   },
   "outputs": [
    {
     "name": "stdout",
     "output_type": "stream",
     "text": [
      "Llave Alicia = 4908577199504481\n",
      "Llave Bob = 4908577199504481\n"
     ]
    }
   ],
   "source": [
    "llave_alicia=pow(B,a,p)\n",
    "llave_bob=pow(A,b,p)\n",
    "print (\"Llave Alicia =\",llave_alicia)\n",
    "print (\"Llave Bob =\",llave_bob)"
   ]
  },
  {
   "cell_type": "markdown",
   "metadata": {},
   "source": [
    "Ambos consiguen la misma llave y pueden empezar a encriptar con llave privada.\n"
   ]
  },
  {
   "cell_type": "markdown",
   "metadata": {},
   "source": [
    "__________\n"
   ]
  },
  {
   "cell_type": "markdown",
   "metadata": {},
   "source": [
    "<h2> El Gamal"
   ]
  },
  {
   "cell_type": "markdown",
   "metadata": {},
   "source": [
    "Para el segundo cifrado para intercambio de llaves el proceso es un poco más complejo. El cifrado el Gamal a diferencia del cifrado Diffie Hellman es asimétrico, lo cual incrementa su grado de complejidad, además de que este cifrado puede igualmente ser utilizado para el cifrado de texto. Consiste en lo siguiente:\n",
    "\n",
    "1. Alicia al igual que en Diffie Hellman escoge $g, p, a$ (su llave aleatoria privada), y calcula $\\ A \\equiv \\ g^a\\ mod\\ p$.\n",
    "2. Hace públicas $g$ y $p$ y le manda $A$ a Bob.\n",
    "3. Ahora bob escoge un número $K$ al y un texto $(M)$ que pertenezca al grupo.\n",
    "4. Bob va a calcular dos variables extras ($c_1$ y $c_2$) de la siguiente manera:\n",
    "      $\\ c_1 \\equiv \\ g^K\\ mod\\ p$  y \n",
    "      $\\ c_2 = M*A^K$\n",
    "5. Bob envía a Alicia $c_1$ y $c_2$.\n",
    "6. Alicia define $\\ x \\equiv c_1^a\\ mod\\ p$.\n",
    "7. Alicia calcula $\\ x^{-1}*c_2 \\equiv c_1^{-a}*M*A^K \\equiv g^{-ka}*M*g^{ak} \\equiv \\ M\\ mod\\ p$\n",
    "\n",
    "![Figure 2](./img/ElGamal.png)\n",
    "     "
   ]
  },
  {
   "cell_type": "markdown",
   "metadata": {},
   "source": [
    "<h3> Ejemplo (intercambio de texto)"
   ]
  },
  {
   "cell_type": "markdown",
   "metadata": {},
   "source": [
    "Alicia escoge igual que en el ejemplo anterior $g =\\ 13$, $p=\\ 633910111$ y a distinto $a =\\ 71682723$, y calcula $A$"
   ]
  },
  {
   "cell_type": "code",
   "execution_count": 1,
   "metadata": {
    "collapsed": false
   },
   "outputs": [
    {
     "name": "stdout",
     "output_type": "stream",
     "text": [
      "a = 71682723\n",
      "g = 13\n",
      "p = 633910111\n",
      "A = 6817155\n"
     ]
    }
   ],
   "source": [
    "a=71682723\n",
    "g=13\n",
    "p=633910111\n",
    "A=pow(g,a,p)\n",
    "print (\"a =\",a)\n",
    "print (\"g =\",g)\n",
    "print (\"p =\",p)\n",
    "print (\"A =\",A)"
   ]
  },
  {
   "cell_type": "markdown",
   "metadata": {},
   "source": [
    "Bob escoge $K =\\ 9821640917248672790347910$ y calcula $c_1$ y $c_2$. Igualmente escoge el texto $M =\\ 546780193$. Recibe A de Alicia. Bob le manda $c_1$ y $c_2$ a Alicia."
   ]
  },
  {
   "cell_type": "code",
   "execution_count": 4,
   "metadata": {
    "collapsed": false
   },
   "outputs": [
    {
     "name": "stdout",
     "output_type": "stream",
     "text": [
      "Texto = 72797665\n",
      "c1 = 207679210\n",
      "c2 = 18136754276695615\n"
     ]
    }
   ],
   "source": [
    "K=9821640917248672790347910\n",
    "M='HOLA'\n",
    "M= int(''.join(str(ord(letra)) for letra in M))\n",
    "c1=pow(g,K,p)\n",
    "c2=M*pow(A,K,p)\n",
    "print (\"Texto =\",M)\n",
    "print (\"c1 =\",c1)\n",
    "print (\"c2 =\",c2)"
   ]
  },
  {
   "cell_type": "markdown",
   "metadata": {},
   "source": [
    "Alicia define $X =\\ c_1^a\\ mod\\ p$ y calcula $X^{-c_2}$"
   ]
  },
  {
   "cell_type": "code",
   "execution_count": 5,
   "metadata": {
    "collapsed": false
   },
   "outputs": [
    {
     "name": "stdout",
     "output_type": "stream",
     "text": [
      "Texto Descifrado = 72797665\n"
     ]
    }
   ],
   "source": [
    "X=pow(c1,a,p)\n",
    "def extended_gcd(aa, bb):\n",
    "    lastremainder, remainder = abs(aa), abs(bb)\n",
    "    x, lastx, y, lasty = 0, 1, 1, 0\n",
    "    while remainder:\n",
    "        lastremainder, (quotient, remainder) = remainder, divmod(lastremainder, remainder)\n",
    "        x, lastx = lastx - quotient*x, x\n",
    "        y, lasty = lasty - quotient*y, y\n",
    "    return lastremainder, lastx * (-1 if aa < 0 else 1), lasty * (-1 if bb < 0 else 1)\n",
    "def modinv(a, m):\n",
    "    g, x, y = extended_gcd(a, m)\n",
    "    if g != 1:\n",
    "        raise ValueError\n",
    "    return x % m\n",
    "Xinv=modinv(X,p)\n",
    "texto_decifrado=(Xinv*c2)%p\n",
    "print(\"Texto Descifrado =\",texto_decifrado)"
   ]
  }
 ],
 "metadata": {
  "anaconda-cloud": {},
  "kernelspec": {
   "display_name": "Python 3",
   "language": "python",
   "name": "python3"
  },
  "language_info": {
   "codemirror_mode": {
    "name": "ipython",
    "version": 3
   },
   "file_extension": ".py",
   "mimetype": "text/x-python",
   "name": "python",
   "nbconvert_exporter": "python",
   "pygments_lexer": "ipython3",
   "version": "3.5.2"
  }
 },
 "nbformat": 4,
 "nbformat_minor": 1
}
