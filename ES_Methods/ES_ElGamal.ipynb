{
 "cells": [
  {
   "cell_type": "markdown",
   "metadata": {},
   "source": [
    "<h1> Intercambio de Llaves Diffie Hellman y El Gamal"
   ]
  },
  {
   "cell_type": "markdown",
   "metadata": {},
   "source": [
    "Los siguientes cifrados, son alternativas al cifrado RSA para el intercambio de Llaves. La seguridad de ambos cifrados\n",
    "radica principalmente en el dificil cálculo del logaritmo discreto.\n",
    "\n",
    "El primero, el cifrado de Diffie - Hellman, fue establecido por Whitfield Diffie y Martin Hellman. Consiste en lo siguiente: ($Z_p$)\n",
    "         \n",
    "1. Alicia escoge un grupo $Z_p$ y un generador (g), igualmente escoge una llave privada a. \n",
    "2. Alicia cálcula $A\\ \\equiv \\ g^a\\ mod\\ p$ y le manda A a Bob.\n",
    "3. Bob teniendo su llave privada (b) y teniendo g y $Z_p$, los cuales son públicos, cálcula $\\ B \\equiv g^b\\ mod\\ p$.\n",
    "4. Bob le manda B a alicia.\n",
    "5. Alicia hace $B^a=g^{ab}$ y bob hace $A^b=g^{ab}$.\n",
    "6. Ambos obtienen la misma llave."
   ]
  },
  {
   "cell_type": "markdown",
   "metadata": {},
   "source": [
    "<h2> Ejemplo: (Intercambiemos Llaves)\n"
   ]
  },
  {
   "cell_type": "markdown",
   "metadata": {},
   "source": [
    "Alicia escoge $g=13$ en $Z_{37124508045065437}$.\n",
    "\n",
    "Escoge su llave privada $a=12736871092846$"
   ]
  },
  {
   "cell_type": "code",
   "execution_count": 2,
   "metadata": {
    "collapsed": false
   },
   "outputs": [
    {
     "name": "stdout",
     "output_type": "stream",
     "text": [
      "a = 12736871092846\n",
      "g = 13\n",
      "p = 37124508045065437\n"
     ]
    }
   ],
   "source": [
    "a=12736871092846\n",
    "g=13\n",
    "p=37124508045065437\n",
    "print (\"a =\",a)\n",
    "print (\"g =\",g)\n",
    "print (\"p =\",p)"
   ]
  },
  {
   "cell_type": "markdown",
   "metadata": {},
   "source": [
    "Alicia calcula $\\ A \\equiv \\ g^a\\ mod\\ p$ y se lo manda a Bob."
   ]
  },
  {
   "cell_type": "code",
   "execution_count": 3,
   "metadata": {
    "collapsed": false
   },
   "outputs": [
    {
     "name": "stdout",
     "output_type": "stream",
     "text": [
      "A = 30384510001166445\n"
     ]
    }
   ],
   "source": [
    "A=pow(g,a,p)\n",
    "print (\"A =\",A)"
   ]
  },
  {
   "cell_type": "markdown",
   "metadata": {},
   "source": [
    "Bob escoge su llave privada $b=8763247901223$, calcula $\\ B \\equiv \\ g^b\\ mod\\ p$ y se lo manda a Alicia"
   ]
  },
  {
   "cell_type": "code",
   "execution_count": 4,
   "metadata": {
    "collapsed": false
   },
   "outputs": [
    {
     "name": "stdout",
     "output_type": "stream",
     "text": [
      "B = 20299696698362165\n"
     ]
    }
   ],
   "source": [
    "b=87632478723934\n",
    "B=pow(g,b,p)\n",
    "print (\"B =\",B)"
   ]
  },
  {
   "cell_type": "markdown",
   "metadata": {},
   "source": [
    "Alicia calcula $\\ B^a\\ mod\\ p$ y Bob calcula $\\ A^b\\ mod\\ p$.\n"
   ]
  },
  {
   "cell_type": "code",
   "execution_count": 5,
   "metadata": {
    "collapsed": false
   },
   "outputs": [
    {
     "name": "stdout",
     "output_type": "stream",
     "text": [
      "Llave Alicia = 4908577199504481\n",
      "Llave Bob = 4908577199504481\n"
     ]
    }
   ],
   "source": [
    "llave_alicia=pow(B,a,p)\n",
    "llave_bob=pow(A,b,p)\n",
    "print (\"Llave Alicia =\",llave_alicia)\n",
    "print (\"Llave Bob =\",llave_bob)"
   ]
  },
  {
   "cell_type": "markdown",
   "metadata": {},
   "source": [
    "Ambos consiguen la misma llave y pueden empezar a encriptar con llave privada.\n"
   ]
  },
  {
   "cell_type": "markdown",
   "metadata": {},
   "source": [
    "<h2> El Gamal"
   ]
  },
  {
   "cell_type": "markdown",
   "metadata": {},
   "source": [
    "Para el segundo cifrado para intercambio de llaves el proceso es un poco más complejo. El cifrado el Gamal a diferencia del cifrado Diffie Hellman es asimétrico, lo cual incrementa su grado de complejidad, además de que este cifrado puede igualmente ser utilizado para el cifrado de texto. Consiste en lo siguiente:\n",
    "\n",
    "1. Alicia al igual que en Diffie Hellman escoge g, p, a(su llave aleatoria privada), y calcula $\\ A \\equiv \\ g^a\\ mod\\ p$.\n",
    "2. Hace públicas g y p y le manda A a Bob.\n",
    "3. Ahora bob escoge un número K al y un texto (M) que pertenezca al grupo.\n",
    "4. Bob va a calcular dos variables extras ($c_1$ y $c_2$) de la siguiente manera:\n",
    "      $\\ c_1 \\equiv \\ g^K\\ mod\\ p$  y \n",
    "      $\\ c_2 = M*A^K$\n",
    "5. Bob envía a Alicia $c_1$ y $c_2$.\n",
    "6. Alicia define $\\ x \\equiv c_1^a\\ mod\\ p$.\n",
    "7. Alicia calcula $\\ x^{-1}*c_2 \\equiv c_1^{-a}*M*A^K \\equiv g^{-ka}*M*g^{ak} \\equiv \\ M\\ mod\\ p$\n",
    "     "
   ]
  },
  {
   "cell_type": "markdown",
   "metadata": {},
   "source": [
    "<h3> Ejemplo (intercambio de texto)"
   ]
  },
  {
   "cell_type": "markdown",
   "metadata": {},
   "source": [
    "Alicia escoge igual que en el ejemplo anterior g = 13, p=633910111 y a distinto a = 71682736492998029374, y calcula A"
   ]
  },
  {
   "cell_type": "code",
   "execution_count": 111,
   "metadata": {
    "collapsed": false
   },
   "outputs": [
    {
     "name": "stdout",
     "output_type": "stream",
     "text": [
      "a = 71682723\n",
      "g = 13\n",
      "p = 3367900312\n",
      "A = 2623801389\n"
     ]
    }
   ],
   "source": [
    "a=71682723\n",
    "g=13\n",
    "p=179424673\n",
    "A=pow(g,a,p)\n",
    "print (\"a =\",a)\n",
    "print (\"g =\",g)\n",
    "print (\"p =\",p)\n",
    "print (\"A =\",A)"
   ]
  },
  {
   "cell_type": "markdown",
   "metadata": {},
   "source": [
    "Bob escoge K = 9821640917248672790347910 y calcula c1 y c2. Igualmente escoge el texto M = 546780193. Recibe A de Alicia. Bob le manda c1 y c2 a Alicia."
   ]
  },
  {
   "cell_type": "code",
   "execution_count": 112,
   "metadata": {
    "collapsed": false
   },
   "outputs": [
    {
     "name": "stdout",
     "output_type": "stream",
     "text": [
      "Texto = 546780193\n",
      "c1 = 2849326481\n",
      "c2 = 915680108837644137\n"
     ]
    }
   ],
   "source": [
    "K=9821640917248672790347910\n",
    "M=546780193\n",
    "c1=pow(g,K,p)\n",
    "c2=M*pow(A,K,p)\n",
    "print (\"Texto =\",M)\n",
    "print (\"c1 =\",c1)\n",
    "print (\"c2 =\",c2)"
   ]
  },
  {
   "cell_type": "markdown",
   "metadata": {},
   "source": [
    "Alicia define X = c1^a mod p y calcula X^(-1)*c2"
   ]
  },
  {
   "cell_type": "code",
   "execution_count": 50,
   "metadata": {
    "collapsed": false
   },
   "outputs": [
    {
     "name": "stdout",
     "output_type": "stream",
     "text": [
      "Texto Descifrado = 546780193\n"
     ]
    }
   ],
   "source": [
    "X=pow(c1,a,p)\n",
    "def extended_gcd(aa, bb):\n",
    "    lastremainder, remainder = abs(aa), abs(bb)\n",
    "    x, lastx, y, lasty = 0, 1, 1, 0\n",
    "    while remainder:\n",
    "        lastremainder, (quotient, remainder) = remainder, divmod(lastremainder, remainder)\n",
    "        x, lastx = lastx - quotient*x, x\n",
    "        y, lasty = lasty - quotient*y, y\n",
    "    return lastremainder, lastx * (-1 if aa < 0 else 1), lasty * (-1 if bb < 0 else 1)\n",
    "def modinv(a, m):\n",
    "    g, x, y = extended_gcd(a, m)\n",
    "    if g != 1:\n",
    "        raise ValueError\n",
    "    return x % m\n",
    "Xinv=modinv(X,p)\n",
    "texto_decifrado=(Xinv*c2)%p\n",
    "print(\"Texto Descifrado =\",texto_decifrado)"
   ]
  },
  {
   "cell_type": "markdown",
   "metadata": {},
   "source": [
    "<h1> Logaritmo Discreto\n"
   ]
  },
  {
   "cell_type": "markdown",
   "metadata": {},
   "source": [
    "El logaritmo discreto, es la base de la seguridad de los metodos anteriores. Consiste en encontrar las llaves privadas de Bob y Alicia, a y b. Imaginemos que existe un tercer sujeto llamado Pancho. Pancho intercepta la comunicación entre Alicia y Bob y lo único que ve en el camino son A y B, es decir $g^a$ y $g^b$. Si Pancho pudiera saber a o b, entonces solo tomo ya sea A o B y lo eleva a la llave que encontro. Para encontrarlo necesita del logaritmo discreto.\n",
    "\n",
    "El logaritmo discreto se define como:\n",
    "\n",
    "$\\ g^a \\equiv \\ A \\ mod\\ p$\n",
    "\n",
    "Donde A, g y p son conocidos y buscamos a, es decir:\n",
    "\n",
    "$ a \\equiv \\ log_g(A) \\ mod\\ p$\n",
    "\n",
    "Hay varias formas de encontrar el logaritmo discreto. Tomemos del ejemplo anterior en el encriptado de Diffie Helman, los mismos números. "
   ]
  },
  {
   "cell_type": "markdown",
   "metadata": {},
   "source": [
    "El siguiente método se llama fuerza bruta, y simplemente consiste en elevar g a la x modulo p hasta conseguir A. Digamos que Pancho consigue A = 211508765, sabemos que g = 13 y p = 3367900313\n"
   ]
  },
  {
   "cell_type": "code",
   "execution_count": 125,
   "metadata": {
    "collapsed": false
   },
   "outputs": [],
   "source": [
    "A = 656334248\n",
    "g = 13\n",
    "p = 3367900313\n",
    "\n",
    "\n",
    "    "
   ]
  },
  {
   "cell_type": "markdown",
   "metadata": {},
   "source": [
    "<h3> Algoritmo Pohlig-Helman"
   ]
  },
  {
   "cell_type": "code",
   "execution_count": 123,
   "metadata": {
    "collapsed": false
   },
   "outputs": [
    {
     "data": {
      "text/plain": [
       "{2: 3, 7: 1, 109: 1, 551753: 1}"
      ]
     },
     "execution_count": 123,
     "metadata": {},
     "output_type": "execute_result"
    }
   ],
   "source": [
    "from sympy.ntheory import factorint\n",
    "factorint(3367900312)"
   ]
  },
  {
   "cell_type": "markdown",
   "metadata": {
    "collapsed": true
   },
   "source": [
    "Tomamos primero el factor $2^3$"
   ]
  },
  {
   "cell_type": "code",
   "execution_count": 126,
   "metadata": {
    "collapsed": false
   },
   "outputs": [
    {
     "name": "stdout",
     "output_type": "stream",
     "text": [
      "Alpha1 = 3367900312\n",
      "Beta1 = 3367900312\n",
      "1\n"
     ]
    }
   ],
   "source": [
    "int1=int((3367900313-1)/2)\n",
    "\n",
    "alpha1=pow(13,int1,p)\n",
    "print(\"Alpha1 =\",alpha1)\n",
    "beta1=pow(A,int1,p)\n",
    "print(\"Beta1 =\",beta1)\n"
   ]
  },
  {
   "cell_type": "markdown",
   "metadata": {},
   "source": [
    "Por lo tanto $x_0=1$, y ahora incrementamos $2^2$"
   ]
  },
  {
   "cell_type": "code",
   "execution_count": 136,
   "metadata": {
    "collapsed": false
   },
   "outputs": [
    {
     "name": "stdout",
     "output_type": "stream",
     "text": [
      "3159318308\n",
      "Beta2 = 3367900312\n",
      "prueba = 3367900312\n"
     ]
    }
   ],
   "source": [
    "s=modinv(g,p)\n",
    "A1=A*s%p\n",
    "print(A1)\n",
    "int2=int((3367900312)/4)\n",
    "beta2=pow(A1,int2,p)\n",
    "print(\"Beta2 =\",beta2)\n",
    "prueba=pow(alpha1,5,p)\n",
    "print(\"prueba =\",prueba)"
   ]
  },
  {
   "cell_type": "markdown",
   "metadata": {},
   "source": [
    "Por lo tanto $x_1=1$"
   ]
  },
  {
   "cell_type": "code",
   "execution_count": 138,
   "metadata": {
    "collapsed": false
   },
   "outputs": [
    {
     "name": "stdout",
     "output_type": "stream",
     "text": [
      "1732536954\n",
      "Beta3 = 3367900312\n"
     ]
    }
   ],
   "source": [
    "s2=modinv(g,p)\n",
    "A2=A1*s2*s2%p\n",
    "print(A2)\n",
    "int3=int((3367900312)/8)\n",
    "beta3=pow(A2,int3,p)\n",
    "print(\"Beta3 =\",beta3)\n"
   ]
  },
  {
   "cell_type": "markdown",
   "metadata": {},
   "source": [
    "Por lo tanto $x_2=1$, y la primera ecuación es: $x_1 = x_0+2*x_1+4*x_2 \\equiv 7\\ mod \\ 8$"
   ]
  },
  {
   "cell_type": "markdown",
   "metadata": {},
   "source": [
    "Tomamos primero el factor $7$"
   ]
  },
  {
   "cell_type": "code",
   "execution_count": 146,
   "metadata": {
    "collapsed": false
   },
   "outputs": [
    {
     "name": "stdout",
     "output_type": "stream",
     "text": [
      "Alpha1 = 2974477553\n",
      "Beta1 = 1\n"
     ]
    }
   ],
   "source": [
    "int11=int((3367900313-1)/7)\n",
    "\n",
    "alpha11=pow(13,int11,p)\n",
    "print(\"Alpha1 =\",alpha11)\n",
    "beta11=pow(A,int11,p)\n",
    "print(\"Beta1 =\",beta11)"
   ]
  },
  {
   "cell_type": "markdown",
   "metadata": {},
   "source": [
    "Por lo tanto  $x_1=0$ y la segunda ecuación es: $x_2 \\equiv 0\\ mod \\ 7$"
   ]
  },
  {
   "cell_type": "markdown",
   "metadata": {},
   "source": [
    "Tomamos primero el factor $7$"
   ]
  },
  {
   "cell_type": "code",
   "execution_count": 147,
   "metadata": {
    "collapsed": false
   },
   "outputs": [
    {
     "name": "stdout",
     "output_type": "stream",
     "text": [
      "Alpha1 = 2920505388\n",
      "Beta1 = 2497218448\n"
     ]
    }
   ],
   "source": [
    "int111=int((3367900313-1)/109)\n",
    "\n",
    "alpha111=pow(13,int111,p)\n",
    "print(\"Alpha1 =\",alpha111)\n",
    "beta111=pow(A,int111,p)\n",
    "print(\"Beta1 =\",beta111)"
   ]
  },
  {
   "cell_type": "code",
   "execution_count": 149,
   "metadata": {
    "collapsed": false
   },
   "outputs": [
    {
     "name": "stdout",
     "output_type": "stream",
     "text": [
      "2497218448\n"
     ]
    }
   ],
   "source": [
    "prueba=pow(alpha111,3,p)\n",
    "print (prueba)"
   ]
  },
  {
   "cell_type": "markdown",
   "metadata": {},
   "source": [
    "Por lo tanto  $x_1=3$ y la segunda ecuación es: $x_3 \\equiv 3\\ mod \\ 109$\n",
    "\n",
    "\n",
    "Tomamos primero el factor $7$"
   ]
  },
  {
   "cell_type": "code",
   "execution_count": 150,
   "metadata": {
    "collapsed": false
   },
   "outputs": [
    {
     "name": "stdout",
     "output_type": "stream",
     "text": [
      "Alpha1 = 600054388\n",
      "Beta1 = 2491247764\n"
     ]
    }
   ],
   "source": [
    "int1111=int((3367900313-1)/551753)\n",
    "\n",
    "alpha1111=pow(13,int1111,p)\n",
    "print(\"Alpha1 =\",alpha1111)\n",
    "beta1111=pow(A,int1111,p)\n",
    "print(\"Beta1 =\",beta1111)"
   ]
  },
  {
   "cell_type": "code",
   "execution_count": 159,
   "metadata": {
    "collapsed": false
   },
   "outputs": [
    {
     "name": "stdout",
     "output_type": "stream",
     "text": [
      "46552\n",
      "2491247764\n"
     ]
    }
   ],
   "source": [
    "i=0\n",
    "result=0\n",
    "while result != beta1111:\n",
    "    result=pow(alpha1111,i,p)\n",
    "    i=i+1\n",
    "print(i-1)\n",
    "print (result)"
   ]
  },
  {
   "cell_type": "code",
   "execution_count": 160,
   "metadata": {
    "collapsed": false
   },
   "outputs": [
    {
     "name": "stdout",
     "output_type": "stream",
     "text": [
      "2491247764\n"
     ]
    }
   ],
   "source": [
    "print(pow(alpha1111,46552,p))"
   ]
  },
  {
   "cell_type": "markdown",
   "metadata": {},
   "source": [
    "Por lo tanto  $x_1=46552$ y la segunda ecuación es: $x_4 \\equiv 46552\\ mod \\ 551753$"
   ]
  },
  {
   "cell_type": "code",
   "execution_count": 163,
   "metadata": {
    "collapsed": false
   },
   "outputs": [
    {
     "ename": "NameError",
     "evalue": "name 'reduce' is not defined",
     "output_type": "error",
     "traceback": [
      "\u001b[0;31m---------------------------------------------------------------------------\u001b[0m",
      "\u001b[0;31mNameError\u001b[0m                                 Traceback (most recent call last)",
      "\u001b[0;32m<ipython-input-163-7a27b1e2b97c>\u001b[0m in \u001b[0;36m<module>\u001b[0;34m()\u001b[0m\n\u001b[1;32m     23\u001b[0m     \u001b[0mn\u001b[0m \u001b[0;34m=\u001b[0m \u001b[0;34m[\u001b[0m\u001b[0;36m7\u001b[0m\u001b[0;34m,\u001b[0m\u001b[0;36m8\u001b[0m\u001b[0;34m,\u001b[0m\u001b[0;36m109\u001b[0m\u001b[0;34m,\u001b[0m\u001b[0;36m551753\u001b[0m\u001b[0;34m]\u001b[0m\u001b[0;34m\u001b[0m\u001b[0m\n\u001b[1;32m     24\u001b[0m     \u001b[0ma\u001b[0m \u001b[0;34m=\u001b[0m \u001b[0;34m[\u001b[0m\u001b[0;36m7\u001b[0m\u001b[0;34m,\u001b[0m\u001b[0;36m0\u001b[0m\u001b[0;34m,\u001b[0m\u001b[0;36m3\u001b[0m\u001b[0;34m,\u001b[0m\u001b[0;36m46552\u001b[0m\u001b[0;34m]\u001b[0m\u001b[0;34m\u001b[0m\u001b[0m\n\u001b[0;32m---> 25\u001b[0;31m     \u001b[0mprint\u001b[0m \u001b[0;34m(\u001b[0m\u001b[0mchinese_remainder\u001b[0m\u001b[0;34m(\u001b[0m\u001b[0mn\u001b[0m\u001b[0;34m,\u001b[0m \u001b[0ma\u001b[0m\u001b[0;34m)\u001b[0m\u001b[0;34m)\u001b[0m\u001b[0;34m\u001b[0m\u001b[0m\n\u001b[0m",
      "\u001b[0;32m<ipython-input-163-7a27b1e2b97c>\u001b[0m in \u001b[0;36mchinese_remainder\u001b[0;34m(n, a)\u001b[0m\n\u001b[1;32m      1\u001b[0m \u001b[0;32mdef\u001b[0m \u001b[0mchinese_remainder\u001b[0m\u001b[0;34m(\u001b[0m\u001b[0mn\u001b[0m\u001b[0;34m,\u001b[0m \u001b[0ma\u001b[0m\u001b[0;34m)\u001b[0m\u001b[0;34m:\u001b[0m\u001b[0;34m\u001b[0m\u001b[0m\n\u001b[1;32m      2\u001b[0m     \u001b[0msum\u001b[0m \u001b[0;34m=\u001b[0m \u001b[0;36m0\u001b[0m\u001b[0;34m\u001b[0m\u001b[0m\n\u001b[0;32m----> 3\u001b[0;31m     \u001b[0mprod\u001b[0m \u001b[0;34m=\u001b[0m \u001b[0mreduce\u001b[0m\u001b[0;34m(\u001b[0m\u001b[0;32mlambda\u001b[0m \u001b[0ma\u001b[0m\u001b[0;34m,\u001b[0m \u001b[0mb\u001b[0m\u001b[0;34m:\u001b[0m \u001b[0ma\u001b[0m\u001b[0;34m*\u001b[0m\u001b[0mb\u001b[0m\u001b[0;34m,\u001b[0m \u001b[0mn\u001b[0m\u001b[0;34m)\u001b[0m\u001b[0;34m\u001b[0m\u001b[0m\n\u001b[0m\u001b[1;32m      4\u001b[0m \u001b[0;34m\u001b[0m\u001b[0m\n\u001b[1;32m      5\u001b[0m     \u001b[0;32mfor\u001b[0m \u001b[0mn_i\u001b[0m\u001b[0;34m,\u001b[0m \u001b[0ma_i\u001b[0m \u001b[0;32min\u001b[0m \u001b[0mzip\u001b[0m\u001b[0;34m(\u001b[0m\u001b[0mn\u001b[0m\u001b[0;34m,\u001b[0m \u001b[0ma\u001b[0m\u001b[0;34m)\u001b[0m\u001b[0;34m:\u001b[0m\u001b[0;34m\u001b[0m\u001b[0m\n",
      "\u001b[0;31mNameError\u001b[0m: name 'reduce' is not defined"
     ]
    }
   ],
   "source": [
    "def chinese_remainder(n, a):\n",
    "    sum = 0\n",
    "    prod=reduce(lambda a, b: a*b, n)\n",
    " \n",
    "    for n_i, a_i in zip(n, a):\n",
    "        p = prod / n_i\n",
    "        sum += a_i * mul_inv(p, n_i) * p\n",
    "    return sum % prod\n",
    " \n",
    " \n",
    "def mul_inv(a, b):\n",
    "    b0 = b\n",
    "    x0, x1 = 0, 1\n",
    "    if b == 1: return 1\n",
    "    while a > 1:\n",
    "        q = a / b\n",
    "        a, b = b, a%b\n",
    "        x0, x1 = x1 - q * x0, x0\n",
    "    if x1 < 0: x1 += b0\n",
    "    return x1\n",
    " \n",
    "if __name__ == '__main__':\n",
    "    n = [7,8,109,551753]\n",
    "    a = [7,0,3,46552]\n",
    "    print (chinese_remainder(n, a))"
   ]
  },
  {
   "cell_type": "code",
   "execution_count": null,
   "metadata": {
    "collapsed": true
   },
   "outputs": [],
   "source": []
  }
 ],
 "metadata": {
  "anaconda-cloud": {},
  "kernelspec": {
   "display_name": "Python [conda root]",
   "language": "python",
   "name": "conda-root-py"
  },
  "language_info": {
   "codemirror_mode": {
    "name": "ipython",
    "version": 3
   },
   "file_extension": ".py",
   "mimetype": "text/x-python",
   "name": "python",
   "nbconvert_exporter": "python",
   "pygments_lexer": "ipython3",
   "version": "3.5.2"
  }
 },
 "nbformat": 4,
 "nbformat_minor": 1
}
