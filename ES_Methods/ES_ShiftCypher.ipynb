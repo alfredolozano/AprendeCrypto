{
 "cells": [
  {
   "cell_type": "markdown",
   "metadata": {},
   "source": [
    "<h1> Cifrado de Cesar (Cifrado por rotación)"
   ]
  },
  {
   "cell_type": "markdown",
   "metadata": {},
   "source": [
    "___________"
   ]
  },
  {
   "cell_type": "markdown",
   "metadata": {},
   "source": [
    "![Figure 1](./img/Caesar.png)\n",
    "\n",
    "El cifrado por rotación consiste en tomar una notación numérica para las 26 letras del alfabeto como sigue:\n",
    "\n",
    "| A| B| C|D|E|F|G|H|I|J|K|L|M|N|O|P|Q|R|S|T|U|V|W|X|Y|Z|\n",
    "|:-:|:-:|:-:|:-:|:-:|:-:|:-:|:-:|:-:|:-:|:-:|:-:|:-:|:-:|:-:|:-:|:-:|:-:|:-:|:-:|:-:|:-:|:-:|:-:|:-:|\n",
    "| 0| 1| 2|3|4|5|6|7|8|9|10|11|12|13|14|15|16|17|18|19|20|21|22|23|24|25|\n",
    "\n",
    "** * Observación: ** los espacios, puntuación, acentuación y caracteres especiales fueron removidos.\n",
    "\n",
    "Después, tomémos una llave en el conjunto simplificado de representantes módulo 26:\n",
    "\n",
    "$$k \\in \\{0, 2, 3, 4, 5, 6, 7, 8, 9, 10, 11, 12, 13, 14, 15, 16, 17, 18, 19, 20, 21, 22, 23, 24, 25\\}$$\n",
    "\n",
    "Ahora, vamos a rotar la notación numérica del alfabeto inicial sumando:\n",
    "$$ k\\mod26$$\n",
    "\n",
    "Entonces, para *k* = 3 tenemos:\n",
    "\n",
    "| A| B| C|D|E|F|G|H|I|J|K|L|M|N|O|P|Q|R|S|T|U|V|W|X|Y|Z|\n",
    "|:-:|:-:|:-:|:-:|:-:|:-:|:-:|:-:|:-:|:-:|:-:|:-:|:-:|:-:|:-:|:-:|:-:|:-:|:-:|:-:|:-:|:-:|:-:|:-:|:-:|\n",
    "|3|4|5|6|7|8|9|10|11|12|13|14|15|16|17|18|19|20|21|22|23|24|25| 0| 1| 2|\n"
   ]
  },
  {
   "cell_type": "markdown",
   "metadata": {},
   "source": [
    "_______"
   ]
  },
  {
   "cell_type": "markdown",
   "metadata": {},
   "source": [
    "<h3> ¡A encriptar!\n"
   ]
  },
  {
   "cell_type": "markdown",
   "metadata": {},
   "source": [
    "Vamos a tomar por mensaje las palabras del célebre emperador Julio Cesar: *\"BRUTO, USAREMOS PYTHON PARA CONQUISTAR EL MUNDO\"* "
   ]
  },
  {
   "cell_type": "code",
   "execution_count": 1,
   "metadata": {
    "collapsed": false
   },
   "outputs": [
    {
     "name": "stdout",
     "output_type": "stream",
     "text": [
      "['B', 'R', 'U', 'T', 'O', 'U', 'S', 'A', 'R', 'E', 'M', 'O', 'S', 'P', 'Y', 'T', 'H', 'O', 'N', 'P', 'A', 'R', 'A', 'C', 'O', 'N', 'Q', 'U', 'I', 'S', 'T', 'A', 'R', 'E', 'L', 'M', 'U', 'N', 'D', 'O']\n"
     ]
    }
   ],
   "source": [
    "k = 3\n",
    "mensaje = 'BRUTO, USAREMOS PYTHON PARA CONQUISTAR EL MUNDO'\n",
    "mensaje = mensaje.replace(' ','') # Quitamos los espacios\n",
    "mensaje = mensaje.replace(',','') # Quitamos la coma\n",
    "mensaje = list(mensaje)\n",
    "print(mensaje)"
   ]
  },
  {
   "cell_type": "code",
   "execution_count": 2,
   "metadata": {
    "collapsed": false
   },
   "outputs": [
    {
     "name": "stdout",
     "output_type": "stream",
     "text": [
      "[1, 17, 20, 19, 14, 20, 18, 0, 17, 4, 12, 14, 18, 15, 24, 19, 7, 14, 13, 15, 0, 17, 0, 2, 14, 13, 16, 20, 8, 18, 19, 0, 17, 4, 11, 12, 20, 13, 3, 14]\n"
     ]
    }
   ],
   "source": [
    "mensaje_numerico = [ # Transformamos los caracteres a su representación numérica.\n",
    "    ord(letra) - 65\n",
    "    for letra in mensaje\n",
    "]\n",
    "print(mensaje_numerico)"
   ]
  },
  {
   "cell_type": "markdown",
   "metadata": {},
   "source": [
    "Ahora, sumémos $3\\ mod\\ 26$ al vector numérico y regresemos a la forma alfabética para encriptar:"
   ]
  },
  {
   "cell_type": "code",
   "execution_count": 3,
   "metadata": {
    "collapsed": false
   },
   "outputs": [
    {
     "name": "stdout",
     "output_type": "stream",
     "text": [
      "[4, 20, 23, 22, 17, 23, 21, 3, 20, 7, 15, 17, 21, 18, 1, 22, 10, 17, 16, 18, 3, 20, 3, 5, 17, 16, 19, 23, 11, 21, 22, 3, 20, 7, 14, 15, 23, 16, 6, 17]\n",
      "EUXWRXVDUHPRVSBWKRQSDUDFRQTXLVWDUHOPXQGR\n"
     ]
    }
   ],
   "source": [
    "cifrado = [   \n",
    "    (numero + k) % 26\n",
    "    for numero in mensaje_numerico\n",
    "] \n",
    "\n",
    "print(cifrado)\n",
    "\n",
    "cifrado = [ # Transformación a la forma alfabética\n",
    "    chr(letra + 65)\n",
    "    for letra in cifrado\n",
    "]\n",
    "\n",
    "cifrado = ''.join(cifrado) # Cifrado final\n",
    "\n",
    "print(cifrado) "
   ]
  },
  {
   "cell_type": "markdown",
   "metadata": {},
   "source": [
    "______  "
   ]
  },
  {
   "cell_type": "markdown",
   "metadata": {},
   "source": [
    "<h3> Desencripta"
   ]
  },
  {
   "cell_type": "markdown",
   "metadata": {},
   "source": [
    "Para desencriptar, solo debemos tomar la llave $k^{-1}=-3$ y aplicar el proceso anterior"
   ]
  },
  {
   "cell_type": "code",
   "execution_count": 5,
   "metadata": {
    "collapsed": false
   },
   "outputs": [
    {
     "name": "stdout",
     "output_type": "stream",
     "text": [
      "BRUTOUSAREMOSPYTHONPARACONQUISTARELMUNDO\n"
     ]
    }
   ],
   "source": [
    "cifrado_numerico = [ # Transformamos los caracteres a su representación numérica.\n",
    "    ord(letra) - 65\n",
    "    for letra in cifrado\n",
    "]\n",
    "\n",
    "mensaje_numerico = [   \n",
    "    (numero - k) % 26\n",
    "    for numero in cifrado_numerico\n",
    "] \n",
    "\n",
    "mensaje = [ # Transformación a la forma alfabética\n",
    "    chr(letra + 65)\n",
    "    for letra in mensaje_numerico\n",
    "]\n",
    "\n",
    "mensaje = ''.join(mensaje) # Cifrado final\n",
    "\n",
    "print(mensaje)"
   ]
  },
  {
   "cell_type": "markdown",
   "metadata": {},
   "source": [
    "____________"
   ]
  },
  {
   "cell_type": "markdown",
   "metadata": {},
   "source": [
    "<h2> Inténtalo tu mismo"
   ]
  },
  {
   "cell_type": "markdown",
   "metadata": {},
   "source": [
    "<h4> Encripta:"
   ]
  },
  {
   "cell_type": "code",
   "execution_count": null,
   "metadata": {
    "collapsed": true
   },
   "outputs": [],
   "source": [
    "k_1 =  #Ingresa una llave\n",
    "mensaje_1 = #Ingresa un mensaje en letras mayusculas\n",
    "mensaje_1 = mensaje_1.replace(' ','') # Quitamos los espacios\n",
    "mensaje_1 = mensaje_1.replace(',','') # Quitamos la coma\n",
    "mensaje_1 = list(mensaje_1)\n",
    "print(mensaje_1)\n",
    "mensaje_numerico_1 = [ # Transformamos los caracteres a su representación numérica.\n",
    "    ord(letra) - 65\n",
    "    for letra in mensaje_1\n",
    "]\n",
    "print(mensaje_numerico_1)"
   ]
  },
  {
   "cell_type": "code",
   "execution_count": 7,
   "metadata": {
    "collapsed": false
   },
   "outputs": [
    {
     "name": "stdout",
     "output_type": "stream",
     "text": [
      "[4, 20, 23, 22, 17, 23, 21, 3, 20, 7, 15, 17, 21, 18, 1, 22, 10, 17, 16, 18, 3, 20, 3, 5, 17, 16, 19, 23, 11, 21, 22, 3, 20, 7, 14, 15, 23, 16, 6, 17]\n",
      "EUXWRXVDUHPRVSBWKRQSDUDFRQTXLVWDUHOPXQGR\n"
     ]
    }
   ],
   "source": [
    "cifrado_1 = [   \n",
    "    (numero + k) % 26\n",
    "    for numero in mensaje_numerico_1\n",
    "] \n",
    "\n",
    "print(cifrado_1)\n",
    "\n",
    "cifrado_1 = [ # Transformación a la forma alfabética\n",
    "    chr(letra + 65)\n",
    "    for letra in cifrado_1\n",
    "]\n",
    "\n",
    "cifrado_1 = ''.join(cifrado_1) # Cifrado final\n",
    "print(cifrado_1) "
   ]
  },
  {
   "cell_type": "markdown",
   "metadata": {},
   "source": [
    "<h4> Desencripta:"
   ]
  },
  {
   "cell_type": "code",
   "execution_count": null,
   "metadata": {
    "collapsed": true
   },
   "outputs": [],
   "source": [
    "cifrado_numerico_1 = [ # Transformamos los caracteres a su representación numérica.\n",
    "    ord(letra) - 65\n",
    "    for letra in cifrado_1\n",
    "]\n",
    "\n",
    "mensaje_numerico_1 = [   \n",
    "    (numero - k) % 26\n",
    "    for numero in cifrado_numerico_1\n",
    "] \n",
    "\n",
    "mensaje_1 = [ # Transformación a la forma alfabética\n",
    "    chr(letra + 65)\n",
    "    for letra in mensaje_numerico_1\n",
    "]\n",
    "\n",
    "mensaje_1 = ''.join(mensaje_1) # Cifrado final\n",
    "\n",
    "print(mensaje_1)"
   ]
  }
 ],
 "metadata": {
  "anaconda-cloud": {},
  "kernelspec": {
   "display_name": "Python 3",
   "language": "python",
   "name": "python3"
  },
  "language_info": {
   "codemirror_mode": {
    "name": "ipython",
    "version": 3
   },
   "file_extension": ".py",
   "mimetype": "text/x-python",
   "name": "python",
   "nbconvert_exporter": "python",
   "pygments_lexer": "ipython3",
   "version": "3.5.2"
  }
 },
 "nbformat": 4,
 "nbformat_minor": 1
}
