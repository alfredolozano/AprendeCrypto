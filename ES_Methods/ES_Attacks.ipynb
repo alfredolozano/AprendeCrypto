{
 "cells": [
  {
   "cell_type": "markdown",
   "metadata": {},
   "source": [
    "# Fuerza Bruta "
   ]
  },
  {
   "cell_type": "markdown",
   "metadata": {},
   "source": [
    "Con este algoritmo vamos a intentar descifrar un mensaje encriptado con ROTn. El modo más natural de proceder es intentar con las 25 llaves disponibles."
   ]
  },
  {
   "cell_type": "markdown",
   "metadata": {},
   "source": [
    "I. Insertamos el mensaje a descifrar."
   ]
  },
  {
   "cell_type": "code",
   "execution_count": 59,
   "metadata": {
    "collapsed": true
   },
   "outputs": [],
   "source": [
    "mensaje = 'FSCJCQ Y RGLEY.'"
   ]
  },
  {
   "cell_type": "code",
   "execution_count": 60,
   "metadata": {
    "collapsed": true
   },
   "outputs": [],
   "source": [
    "alfabeto = 'ABCDEFGHIJKLMNOPQRSTUVWXYZ'"
   ]
  },
  {
   "cell_type": "markdown",
   "metadata": {},
   "source": [
    "II. Probaremos cada rotación para ver si tiene sentido el mensaje."
   ]
  },
  {
   "cell_type": "code",
   "execution_count": 61,
   "metadata": {
    "collapsed": true
   },
   "outputs": [
    {
     "name": "stdout",
     "output_type": "stream",
     "text": [
      "Rot #0: FSCJCQ Y RGLEY.\n",
      "Rot #1: ERBIBP X QFKDX.\n",
      "Rot #2: DQAHAO W PEJCW.\n",
      "Rot #3: CPZGZN V ODIBV.\n",
      "Rot #4: BOYFYM U NCHAU.\n",
      "Rot #5: ANXEXL T MBGZT.\n",
      "Rot #6: ZMWDWK S LAFYS.\n",
      "Rot #7: YLVCVJ R KZEXR.\n",
      "Rot #8: XKUBUI Q JYDWQ.\n",
      "Rot #9: WJTATH P IXCVP.\n",
      "Rot #10: VISZSG O HWBUO.\n",
      "Rot #11: UHRYRF N GVATN.\n",
      "Rot #12: TGQXQE M FUZSM.\n",
      "Rot #13: SFPWPD L ETYRL.\n",
      "Rot #14: REOVOC K DSXQK.\n",
      "Rot #15: QDNUNB J CRWPJ.\n",
      "Rot #16: PCMTMA I BQVOI.\n",
      "Rot #17: OBLSLZ H APUNH.\n",
      "Rot #18: NAKRKY G ZOTMG.\n",
      "Rot #19: MZJQJX F YNSLF.\n",
      "Rot #20: LYIPIW E XMRKE.\n",
      "Rot #21: KXHOHV D WLQJD.\n",
      "Rot #22: JWGNGU C VKPIC.\n",
      "Rot #23: IVFMFT B UJOHB.\n",
      "Rot #24: HUELES A TINGA.\n",
      "Rot #25: GTDKDR Z SHMFZ.\n"
     ]
    }
   ],
   "source": [
    "for rot in range(len(alfabeto)):\n",
    "\n",
    "    resultado = ''\n",
    "\n",
    "    for letrita in mensaje:\n",
    "        if letrita in alfabeto:\n",
    "            num = alfabeto.find(letrita) \n",
    "            num = num - rot\n",
    "        \n",
    "            if num < 0:\n",
    "                num = num + len(alfabeto)\n",
    "       \n",
    "            resultado = resultado + alfabeto[num]\n",
    "        \n",
    "        else:\n",
    "            \n",
    "            resultado = resultado + letrita\n",
    "\n",
    "    print('Rot #%s: %s' % (rot, resultado))"
   ]
  },
  {
   "cell_type": "code",
   "execution_count": null,
   "metadata": {
    "collapsed": true
   },
   "outputs": [],
   "source": [
    "mensaje.replace(' ','') # Quitamos los espacios"
   ]
  }
 ],
 "metadata": {
  "anaconda-cloud": {},
  "kernelspec": {
   "display_name": "Python 3",
   "language": "python",
   "name": "python3"
  },
  "language_info": {
   "codemirror_mode": {
    "name": "ipython",
    "version": 3
   },
   "file_extension": ".py",
   "mimetype": "text/x-python",
   "name": "python",
   "nbconvert_exporter": "python",
   "pygments_lexer": "ipython3",
   "version": "3.5.2"
  }
 },
 "nbformat": 4,
 "nbformat_minor": 1
}
