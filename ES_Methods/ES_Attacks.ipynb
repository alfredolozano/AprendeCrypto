{
 "cells": [
  {
   "cell_type": "markdown",
   "metadata": {},
   "source": [
    "<h1> Logaritmo Discreto\n"
   ]
  },
  {
   "cell_type": "markdown",
   "metadata": {},
   "source": [
    "![Figure 1](./img/dlog.png)\n",
    "\n",
    "El logaritmo discreto, es la base de la seguridad de los metodos anteriores. Consiste en encontrar las llaves privadas de Bob y Alicia, a y b. Imaginemos que existe un tercer sujeto llamado Pancho. Pancho intercepta la comunicación entre Alicia y Bob y lo único que ve en el camino son A y B, es decir $g^a$ y $g^b$. Si Pancho pudiera saber a o b, entonces solo tomo ya sea A o B y lo eleva a la llave que encontro. Para encontrarlo necesita del logaritmo discreto.\n",
    "\n",
    "El logaritmo discreto se define como:\n",
    "\n",
    "$\\ g^a \\equiv \\ A \\ mod\\ p$\n",
    "\n",
    "Donde A, g y p son conocidos y buscamos a, es decir:\n",
    "\n",
    "$ a \\equiv \\ log_g(A) \\ mod\\ p$\n",
    "\n",
    "Hay varias formas de encontrar el logaritmo discreto. Tomemos del ejemplo anterior en el encriptado de Diffie Helman, los mismos números. "
   ]
  },
  {
   "cell_type": "markdown",
   "metadata": {},
   "source": [
    "Digamos que Pancho consigue A = 656334248, sabemos que g = 13 y p = 3367900313\n"
   ]
  },
  {
   "cell_type": "code",
   "execution_count": 16,
   "metadata": {
    "collapsed": false
   },
   "outputs": [],
   "source": [
    "A = 656334248\n",
    "g = 13\n",
    "p = 3367900313\n",
    "\n",
    "\n",
    "    "
   ]
  },
  {
   "cell_type": "markdown",
   "metadata": {},
   "source": [
    "<h3> Algoritmo Pohlig-Helman"
   ]
  },
  {
   "cell_type": "code",
   "execution_count": 17,
   "metadata": {
    "collapsed": false
   },
   "outputs": [
    {
     "data": {
      "text/plain": [
       "{2: 3, 7: 1, 109: 1, 551753: 1}"
      ]
     },
     "execution_count": 17,
     "metadata": {},
     "output_type": "execute_result"
    }
   ],
   "source": [
    "from sympy.ntheory import factorint\n",
    "factorint(3367900312)"
   ]
  },
  {
   "cell_type": "markdown",
   "metadata": {
    "collapsed": true
   },
   "source": [
    "Tomamos primero el factor $2^3$"
   ]
  },
  {
   "cell_type": "code",
   "execution_count": 18,
   "metadata": {
    "collapsed": false
   },
   "outputs": [
    {
     "name": "stdout",
     "output_type": "stream",
     "text": [
      "Alpha1 = 3367900312\n",
      "Beta1 = 3367900312\n"
     ]
    }
   ],
   "source": [
    "int1=int((3367900313-1)/2)\n",
    "\n",
    "alpha1=pow(13,int1,p)\n",
    "print(\"Alpha1 =\",alpha1)\n",
    "beta1=pow(A,int1,p)\n",
    "print(\"Beta1 =\",beta1)\n"
   ]
  },
  {
   "cell_type": "markdown",
   "metadata": {},
   "source": [
    "Por lo tanto $x_0=1$, y ahora incrementamos $2^2$"
   ]
  },
  {
   "cell_type": "code",
   "execution_count": 19,
   "metadata": {
    "collapsed": false
   },
   "outputs": [
    {
     "name": "stdout",
     "output_type": "stream",
     "text": [
      "3159318308\n",
      "Beta2 = 3367900312\n",
      "prueba = 3367900312\n"
     ]
    }
   ],
   "source": [
    "s=modinv(g,p)\n",
    "A1=A*s%p\n",
    "print(A1)\n",
    "int2=int((3367900312)/4)\n",
    "beta2=pow(A1,int2,p)\n",
    "print(\"Beta2 =\",beta2)\n",
    "prueba=pow(alpha1,5,p)\n",
    "print(\"prueba =\",prueba)"
   ]
  },
  {
   "cell_type": "markdown",
   "metadata": {},
   "source": [
    "Por lo tanto $x_1=1$"
   ]
  },
  {
   "cell_type": "code",
   "execution_count": 20,
   "metadata": {
    "collapsed": false
   },
   "outputs": [
    {
     "name": "stdout",
     "output_type": "stream",
     "text": [
      "1732536954\n",
      "Beta3 = 3367900312\n"
     ]
    }
   ],
   "source": [
    "s2=modinv(g,p)\n",
    "A2=A1*s2*s2%p\n",
    "print(A2)\n",
    "int3=int((3367900312)/8)\n",
    "beta3=pow(A2,int3,p)\n",
    "print(\"Beta3 =\",beta3)\n"
   ]
  },
  {
   "cell_type": "markdown",
   "metadata": {},
   "source": [
    "Por lo tanto $x_2=1$, y la primera ecuación es: $x_1 = x_0+2*x_1+4*x_2 \\equiv 7\\ mod \\ 8$"
   ]
  },
  {
   "cell_type": "markdown",
   "metadata": {},
   "source": [
    "Tomamos segundo el factor $7$"
   ]
  },
  {
   "cell_type": "code",
   "execution_count": 21,
   "metadata": {
    "collapsed": false
   },
   "outputs": [
    {
     "name": "stdout",
     "output_type": "stream",
     "text": [
      "Alpha1 = 2974477553\n",
      "Beta1 = 1\n"
     ]
    }
   ],
   "source": [
    "int11=int((3367900313-1)/7)\n",
    "\n",
    "alpha11=pow(13,int11,p)\n",
    "print(\"Alpha1 =\",alpha11)\n",
    "beta11=pow(A,int11,p)\n",
    "print(\"Beta1 =\",beta11)"
   ]
  },
  {
   "cell_type": "markdown",
   "metadata": {},
   "source": [
    "Por lo tanto  $x_1=0$ y la segunda ecuación es: $x_2 \\equiv 0\\ mod \\ 7$"
   ]
  },
  {
   "cell_type": "markdown",
   "metadata": {},
   "source": [
    "Tomamos tercero el factor $109$"
   ]
  },
  {
   "cell_type": "code",
   "execution_count": 22,
   "metadata": {
    "collapsed": false
   },
   "outputs": [
    {
     "name": "stdout",
     "output_type": "stream",
     "text": [
      "Alpha1 = 2920505388\n",
      "Beta1 = 2497218448\n"
     ]
    }
   ],
   "source": [
    "int111=int((3367900313-1)/109)\n",
    "\n",
    "alpha111=pow(13,int111,p)\n",
    "print(\"Alpha1 =\",alpha111)\n",
    "beta111=pow(A,int111,p)\n",
    "print(\"Beta1 =\",beta111)"
   ]
  },
  {
   "cell_type": "code",
   "execution_count": 23,
   "metadata": {
    "collapsed": false
   },
   "outputs": [
    {
     "name": "stdout",
     "output_type": "stream",
     "text": [
      "2497218448\n"
     ]
    }
   ],
   "source": [
    "prueba=pow(alpha111,3,p)\n",
    "print (prueba)"
   ]
  },
  {
   "cell_type": "markdown",
   "metadata": {},
   "source": [
    "Por lo tanto  $x_1=3$ y la segunda ecuación es: $x_3 \\equiv 3\\ mod \\ 109$\n",
    "\n",
    "\n",
    "Tomamos por último el factor $551753$"
   ]
  },
  {
   "cell_type": "code",
   "execution_count": 24,
   "metadata": {
    "collapsed": false
   },
   "outputs": [
    {
     "name": "stdout",
     "output_type": "stream",
     "text": [
      "Alpha1 = 600054388\n",
      "Beta1 = 2491247764\n"
     ]
    }
   ],
   "source": [
    "int1111=int((3367900313-1)/551753)\n",
    "\n",
    "alpha1111=pow(13,int1111,p)\n",
    "print(\"Alpha1 =\",alpha1111)\n",
    "beta1111=pow(A,int1111,p)\n",
    "print(\"Beta1 =\",beta1111)"
   ]
  },
  {
   "cell_type": "code",
   "execution_count": 25,
   "metadata": {
    "collapsed": false
   },
   "outputs": [
    {
     "name": "stdout",
     "output_type": "stream",
     "text": [
      "46552\n",
      "2491247764\n"
     ]
    }
   ],
   "source": [
    "i=0\n",
    "result=0\n",
    "while result != beta1111:\n",
    "    result=pow(alpha1111,i,p)\n",
    "    i=i+1\n",
    "print(i-1)\n",
    "print (result)"
   ]
  },
  {
   "cell_type": "code",
   "execution_count": 26,
   "metadata": {
    "collapsed": false
   },
   "outputs": [
    {
     "name": "stdout",
     "output_type": "stream",
     "text": [
      "2491247764\n"
     ]
    }
   ],
   "source": [
    "print(pow(alpha1111,46552,p))"
   ]
  },
  {
   "cell_type": "markdown",
   "metadata": {},
   "source": [
    "Por lo tanto  $x_1=46552$ y la segunda ecuación es: $x_4 \\equiv 46552\\ mod \\ 551753$"
   ]
  },
  {
   "cell_type": "code",
   "execution_count": 49,
   "metadata": {
    "collapsed": false
   },
   "outputs": [
    {
     "name": "stdout",
     "output_type": "stream",
     "text": [
      "a = 12736871\n"
     ]
    }
   ],
   "source": [
    "def extended_gcd2(a, b):\n",
    "    \"\"\"Return (r, s, d) where a*r + b*s = d and d = gcd(a,b)\"\"\"\n",
    "    x,y = 0, 1\n",
    "    lastx, lasty = 1, 0\n",
    "\n",
    "    while b:\n",
    "        a, (q, b) = b, divmod(a,b)\n",
    "        x, lastx = lastx-q*x, x\n",
    "        y, lasty = lasty-q*y, y\n",
    "\n",
    "    return (lastx, lasty, a)\n",
    "def chinese_remainder_theorem(items):\n",
    "  \"\"\"Solve the chinese remainder theorem\n",
    "  Given a list of items (a_i, n_i) solve for x such that x = a_i (mod n_i)\n",
    "  such that 0 <= x < product(n_i)\n",
    "  Assumes that n_i are pairwise co-prime.\n",
    "  \"\"\"\n",
    "\n",
    "  # Determine N, the product of all n_i\n",
    "  N = 1\n",
    "  for a, n in items:\n",
    "    N *= n\n",
    "\n",
    "  # Find the solution (mod N)\n",
    "  result = 0\n",
    "  for a, n in items:\n",
    "    m = N//n\n",
    "    r, s, d = extended_gcd2(n, m)\n",
    "    if d != 1:\n",
    "      raise \"Input not pairwise co-prime\"\n",
    "    result += a*s*m\n",
    "\n",
    "  # Make sure we return the canonical solution.\n",
    "  return result % N\n",
    "result_final=chinese_remainder_theorem([(7,8),(0,7),(3,109),(46552,551753)])\n",
    "print(\"a =\",result_final)"
   ]
  },
  {
   "cell_type": "code",
   "execution_count": null,
   "metadata": {
    "collapsed": true
   },
   "outputs": [],
   "source": []
  }
 ],
 "metadata": {
  "anaconda-cloud": {},
  "kernelspec": {
   "display_name": "Python 3",
   "language": "python",
   "name": "python3"
  },
  "language_info": {
   "codemirror_mode": {
    "name": "ipython",
    "version": 3
   },
   "file_extension": ".py",
   "mimetype": "text/x-python",
   "name": "python",
   "nbconvert_exporter": "python",
   "pygments_lexer": "ipython3",
   "version": "3.5.2"
  }
 },
 "nbformat": 4,
 "nbformat_minor": 1
}
