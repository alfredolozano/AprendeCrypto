{
 "cells": [
  {
   "cell_type": "markdown",
   "metadata": {},
   "source": [
    "# Cifrado por Substitución Simple"
   ]
  },
  {
   "cell_type": "markdown",
   "metadata": {},
   "source": [
    "Este cifrado es inmune a ataques tipo fuerza bruta. "
   ]
  },
  {
   "cell_type": "markdown",
   "metadata": {},
   "source": [
    "|A|B|C|D|E|F|G|H|I|J|K|L|M|N|O|P|Q|R|S|T|U|V|W|X|Y|Z|\n",
    "|-|-|-|-|-|-|-|-|-|-|-|-|-|-|-|-|-|-|-|-|-|-|-|-|-|-|\n",
    "|R|A|N|O|E|D|F|C|G|P|Q|J|T|Y|Z|S|X|K|L|C|V|B|W|G|H|I|"
   ]
  },
  {
   "cell_type": "markdown",
   "metadata": {},
   "source": [
    "El cifrado consiste en hacer una correspondencia uno a uno entre el alfabeto y una permutación de este.\n",
    "Hay 26! (403291461126605635584000000) formas de hacer esto, es inútil proceder por ataque bruto."
   ]
  },
  {
   "cell_type": "markdown",
   "metadata": {},
   "source": [
    "**¿Cómo encriptar bajo este esquema?**"
   ]
  },
  {
   "cell_type": "markdown",
   "metadata": {},
   "source": [
    "1. Elegir una llave.\n"
   ]
  },
  {
   "cell_type": "code",
   "execution_count": 24,
   "metadata": {
    "collapsed": false
   },
   "outputs": [],
   "source": [
    "import sys, random\n",
    "alfabeto = 'ABCDEFGHIJKLMNOPQRSTUVWXYZ'\n",
    "llave = 'RANOEDFCGPQJTYZSXKLCVBWGHI'\n",
    "\n",
    "def llaveAleatoria():\n",
    "    llaveA = list(alfabeto)\n",
    "    random.shuffle(llaveA)\n",
    "    return ''.join(llaveA)"
   ]
  },
  {
   "cell_type": "markdown",
   "metadata": {},
   "source": [
    "2. Escribir un mensaje.\n",
    "\n"
   ]
  },
  {
   "cell_type": "code",
   "execution_count": 31,
   "metadata": {
    "collapsed": true
   },
   "outputs": [],
   "source": [
    "mensaje = 'Huele feo'\n",
    "\n",
    "    "
   ]
  },
  {
   "cell_type": "markdown",
   "metadata": {
    "collapsed": true
   },
   "source": [
    "3. Para cada letra del mensaje vamos a substituir esa letra por nuestro nuevo alfabeto (\"llave\").\n"
   ]
  },
  {
   "cell_type": "code",
   "execution_count": 32,
   "metadata": {
    "collapsed": false
   },
   "outputs": [],
   "source": [
    "def sSimple(mensaje,llave):\n",
    "            resultado = ''\n",
    "            original = alfabeto;\n",
    "            permutacion = llave;\n",
    "            \n",
    "            for letrita in mensaje:\n",
    "                if letrita.upper()in original:\n",
    "                    indice = original.find(letrita.upper())\n",
    "                    if letrita.isupper():\n",
    "                        resultado = resultado + permutacion[indice].upper()\n",
    "                    else:\n",
    "                        resultado = resultado + permutacion[indice].lower()\n",
    "                else:\n",
    "                    resultado = resultado + letrita\n",
    "            return resultado    "
   ]
  },
  {
   "cell_type": "markdown",
   "metadata": {},
   "source": [
    "Nuestro mensaje encriptado con nuestra llave es:"
   ]
  },
  {
   "cell_type": "code",
   "execution_count": 33,
   "metadata": {
    "collapsed": false
   },
   "outputs": [
    {
     "name": "stdout",
     "output_type": "stream",
     "text": [
      "Usando la llave RANOEDFCGPQJTYZSXKLCVBWGHI\n",
      "El mensaje es: \n",
      "Cveje dez\n"
     ]
    }
   ],
   "source": [
    "encriptado = sSimple(mensaje,llave)\n",
    "print ('Usando la llave %s' %(llave))\n",
    "print ('El mensaje es: ')\n",
    "print (encriptado)\n",
    "\n"
   ]
  }
 ],
 "metadata": {
  "anaconda-cloud": {},
  "kernelspec": {
   "display_name": "Python [default]",
   "language": "python",
   "name": "python3"
  },
  "language_info": {
   "codemirror_mode": {
    "name": "ipython",
    "version": 3
   },
   "file_extension": ".py",
   "mimetype": "text/x-python",
   "name": "python",
   "nbconvert_exporter": "python",
   "pygments_lexer": "ipython3",
   "version": "3.5.2"
  }
 },
 "nbformat": 4,
 "nbformat_minor": 1
}
