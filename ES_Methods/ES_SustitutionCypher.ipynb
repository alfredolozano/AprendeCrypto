{
 "cells": [
  {
   "cell_type": "markdown",
   "metadata": {},
   "source": [
    "# Cifrado por Sustitución Simple"
   ]
  },
  {
   "cell_type": "markdown",
   "metadata": {},
   "source": [
    "__________"
   ]
  },
  {
   "cell_type": "markdown",
   "metadata": {},
   "source": [
    "|A|B|C|D|E|F|G|H|I|J|K|L|M|N|O|P|Q|R|S|T|U|V|W|X|Y|Z|\n",
    "|-|-|-|-|-|-|-|-|-|-|-|-|-|-|-|-|-|-|-|-|-|-|-|-|-|-|\n",
    "|R|A|N|O|E|D|F|C|G|P|Q|J|T|Y|Z|S|X|K|L|C|V|B|W|G|H|I|"
   ]
  },
  {
   "cell_type": "markdown",
   "metadata": {},
   "source": [
    "El cifrado consiste en hacer una correspondencia uno a uno entre el alfabeto y una permutación de este.\n",
    "\n",
    "Se puede ver que existen 26! (403291461126605635584000000) formas de permutar el alfabeto."
   ]
  },
  {
   "cell_type": "markdown",
   "metadata": {},
   "source": [
    "<h3>  ¡A encriptar!"
   ]
  },
  {
   "cell_type": "markdown",
   "metadata": {},
   "source": [
    "Tomemos una permutación aleatoria del alfabeto como llave.\n"
   ]
  },
  {
   "cell_type": "code",
   "execution_count": 78,
   "metadata": {
    "collapsed": false
   },
   "outputs": [
    {
     "name": "stdout",
     "output_type": "stream",
     "text": [
      "k = ['X', 'R', 'A', 'W', 'Q', 'B', 'Y', 'M', 'K', 'D', 'N', 'C', 'Z', 'T', 'O', 'L', 'I', 'J', 'S', 'V', 'P', 'E', 'H', 'G', 'U', 'F']\n"
     ]
    }
   ],
   "source": [
    "import random\n",
    "\n",
    "k = list(alfabeto)\n",
    "k = random.sample(k,26)\n",
    "print('k =',k)"
   ]
  },
  {
   "cell_type": "markdown",
   "metadata": {},
   "source": [
    "Luego, tomemos el siguiente mensaje."
   ]
  },
  {
   "cell_type": "code",
   "execution_count": 79,
   "metadata": {
    "collapsed": false
   },
   "outputs": [
    {
     "data": {
      "text/plain": [
       "'LA FUERZA BRUTA NO NOS DENETDRA'"
      ]
     },
     "execution_count": 79,
     "metadata": {},
     "output_type": "execute_result"
    }
   ],
   "source": [
    "m = 'LA FUERZA BRUTA NO NOS DENETDRA'\n",
    "m\n",
    "    "
   ]
  },
  {
   "cell_type": "markdown",
   "metadata": {
    "collapsed": true
   },
   "source": [
    "Ahora, intercambiamos cada letra correspndiendo con el orden en que aparece en la llave.\n"
   ]
  },
  {
   "cell_type": "code",
   "execution_count": 80,
   "metadata": {
    "collapsed": false
   },
   "outputs": [],
   "source": [
    "def e_sSimple(mensaje,llave):\n",
    "            cifrado = ''\n",
    "            alfabeto = 'ABCDEFGHIJKLMNOPQRSTUVWXYZ'\n",
    "            permutacion = llave\n",
    "            \n",
    "            for letra in mensaje:\n",
    "                if letra.upper()in alfabeto:\n",
    "                    indice = alfabeto.find(letra.upper())\n",
    "                    if letra.isupper():\n",
    "                        cifrado = cifrado + permutacion[indice].upper()\n",
    "                    else:\n",
    "                        cifrado = cifrado + permutacion[indice].lower()\n",
    "                else:\n",
    "                    cifrado = cifrado + letra\n",
    "            return cifrado    "
   ]
  },
  {
   "cell_type": "markdown",
   "metadata": {},
   "source": [
    "Nuestro mensaje encriptado con nuestra llave es:"
   ]
  },
  {
   "cell_type": "code",
   "execution_count": 81,
   "metadata": {
    "collapsed": false
   },
   "outputs": [
    {
     "name": "stdout",
     "output_type": "stream",
     "text": [
      "Usando la llave ['X', 'R', 'A', 'W', 'Q', 'B', 'Y', 'M', 'K', 'D', 'N', 'C', 'Z', 'T', 'O', 'L', 'I', 'J', 'S', 'V', 'P', 'E', 'H', 'G', 'U', 'F']\n",
      "El cifrado es: \n",
      "CX BPQJFX RJPVX TO TOS WQTQVWJX\n"
     ]
    }
   ],
   "source": [
    "c = e_sSimple(m,k)\n",
    "print ('Usando la llave %s' %(k))\n",
    "print ('El cifrado es: ')\n",
    "print (c)\n",
    "\n"
   ]
  },
  {
   "cell_type": "markdown",
   "metadata": {},
   "source": [
    "__________"
   ]
  },
  {
   "cell_type": "markdown",
   "metadata": {},
   "source": [
    "<h3> Desencripta"
   ]
  },
  {
   "cell_type": "markdown",
   "metadata": {},
   "source": [
    "Para desencriptar debemos buscar cada letra del cifrado en la llave y asignarle la letra del espacio en que se encuentra con respecto al alfabeto original."
   ]
  },
  {
   "cell_type": "code",
   "execution_count": 82,
   "metadata": {
    "collapsed": true
   },
   "outputs": [],
   "source": [
    "def d_sSimple(cifrado,llave):\n",
    "            mensaje = ''\n",
    "            alfabeto = 'ABCDEFGHIJKLMNOPQRSTUVWXYZ'\n",
    "            llave = ''.join(llave)\n",
    "            \n",
    "            for letra in cifrado:\n",
    "                if letra.upper()in llave:\n",
    "                    indice = llave.find(letra.upper())\n",
    "                    if letra.isupper():\n",
    "                        mensaje = mensaje + alfabeto[indice].upper()\n",
    "                    else:\n",
    "                        mensaje = mensaje + alfabeto[indice].lower()\n",
    "                else:\n",
    "                    mensaje = mensaje + letra\n",
    "            return mensaje  "
   ]
  },
  {
   "cell_type": "code",
   "execution_count": 83,
   "metadata": {
    "collapsed": false
   },
   "outputs": [
    {
     "data": {
      "text/plain": [
       "'LA FUERZA BRUTA NO NOS DENETDRA'"
      ]
     },
     "execution_count": 83,
     "metadata": {},
     "output_type": "execute_result"
    }
   ],
   "source": [
    "d = d_sSimple(c,k)\n",
    "d"
   ]
  },
  {
   "cell_type": "markdown",
   "metadata": {},
   "source": [
    "__________"
   ]
  },
  {
   "cell_type": "markdown",
   "metadata": {},
   "source": [
    "**Encripta**"
   ]
  },
  {
   "cell_type": "code",
   "execution_count": 84,
   "metadata": {
    "collapsed": false
   },
   "outputs": [
    {
     "ename": "SyntaxError",
     "evalue": "invalid syntax (<ipython-input-84-047fc77d7e15>, line 1)",
     "output_type": "error",
     "traceback": [
      "\u001b[0;36m  File \u001b[0;32m\"<ipython-input-84-047fc77d7e15>\"\u001b[0;36m, line \u001b[0;32m1\u001b[0m\n\u001b[0;31m    m_1 =             #Inserta un mensaje\u001b[0m\n\u001b[0m                                         ^\u001b[0m\n\u001b[0;31mSyntaxError\u001b[0m\u001b[0;31m:\u001b[0m invalid syntax\n"
     ]
    }
   ],
   "source": [
    "m_1 =             #Inserta un mensaje\n",
    "k_1 =             #Toma una llave o genera una aleatoriamente\n",
    "c_1 = e_sSimple(m,k)"
   ]
  },
  {
   "cell_type": "markdown",
   "metadata": {},
   "source": [
    "**Desecripta**"
   ]
  },
  {
   "cell_type": "code",
   "execution_count": 85,
   "metadata": {
    "collapsed": false
   },
   "outputs": [
    {
     "ename": "NameError",
     "evalue": "name 'c_1' is not defined",
     "output_type": "error",
     "traceback": [
      "\u001b[0;31m---------------------------------------------------------------------------\u001b[0m",
      "\u001b[0;31mNameError\u001b[0m                                 Traceback (most recent call last)",
      "\u001b[0;32m<ipython-input-85-b496dacf3691>\u001b[0m in \u001b[0;36m<module>\u001b[0;34m()\u001b[0m\n\u001b[0;32m----> 1\u001b[0;31m \u001b[0md_1\u001b[0m \u001b[0;34m=\u001b[0m \u001b[0md_sSimple\u001b[0m\u001b[0;34m(\u001b[0m\u001b[0mc_1\u001b[0m\u001b[0;34m,\u001b[0m\u001b[0mk_1\u001b[0m\u001b[0;34m)\u001b[0m\u001b[0;34m\u001b[0m\u001b[0m\n\u001b[0m\u001b[1;32m      2\u001b[0m \u001b[0md_1\u001b[0m\u001b[0;34m\u001b[0m\u001b[0m\n",
      "\u001b[0;31mNameError\u001b[0m: name 'c_1' is not defined"
     ]
    }
   ],
   "source": [
    "d_1 = d_sSimple(c_1,k_1)\n",
    "d_1"
   ]
  }
 ],
 "metadata": {
  "anaconda-cloud": {},
  "kernelspec": {
   "display_name": "Python 3",
   "language": "python",
   "name": "python3"
  },
  "language_info": {
   "codemirror_mode": {
    "name": "ipython",
    "version": 3
   },
   "file_extension": ".py",
   "mimetype": "text/x-python",
   "name": "python",
   "nbconvert_exporter": "python",
   "pygments_lexer": "ipython3",
   "version": "3.5.2"
  }
 },
 "nbformat": 4,
 "nbformat_minor": 1
}
