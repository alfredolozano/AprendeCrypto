{
 "cells": [
  {
   "cell_type": "markdown",
   "metadata": {},
   "source": [
    "# Cifrado por Rotación\n"
   ]
  },
  {
   "cell_type": "markdown",
   "metadata": {},
   "source": [
    "En criptografía, este cifrado es una de las técnicas de cifrado más simples y más usadas.\n",
    "\n",
    "En la antigua Roma, Julio César utilizó este cifrado para comunicarse de manera segura.\n",
    "\n",
    ">Si tenía que decir algo confidencial, lo escribía usando el cifrado, esto es, cambiando el orden de las letras del alfabeto, para que ni una palabra pudiera entenderse. Si alguien quiere decodificarlo, y entender su significado, debe sustituir la cuarta letra del alfabeto, es decir, la D por la A, y así con las demás.\n",
    "                                                                                     \n",
    "                                                                                     \n",
    "                                                                                     Suetonio, Vida de los Césares\n",
    "\n",
    "\n"
   ]
  },
  {
   "cell_type": "markdown",
   "metadata": {},
   "source": [
    "El cifrado de Julio César es un ROT3, es decir, intercambia la A por la D, la B por la E y así sucesivamente.\n",
    "En general, ROTn se obtiene intercambiando la letra A por la letra que está n posiciones adelante."
   ]
  },
  {
   "cell_type": "markdown",
   "metadata": {},
   "source": [
    "**¿Cómo encriptar bajo este esquema?**\n",
    "\n"
   ]
  },
  {
   "cell_type": "markdown",
   "metadata": {},
   "source": [
    "I. Escribir nuestro mensaje."
   ]
  },
  {
   "cell_type": "code",
   "execution_count": 38,
   "metadata": {
    "collapsed": false
   },
   "outputs": [],
   "source": [
    "mensaje = 'Hueles a tinga'\n",
    "mensaje = mensaje.upper()"
   ]
  },
  {
   "cell_type": "markdown",
   "metadata": {},
   "source": [
    "II. Especifiar la rotación."
   ]
  },
  {
   "cell_type": "code",
   "execution_count": 39,
   "metadata": {
    "collapsed": true
   },
   "outputs": [],
   "source": [
    "rot = 24"
   ]
  },
  {
   "cell_type": "code",
   "execution_count": 40,
   "metadata": {
    "collapsed": true
   },
   "outputs": [],
   "source": [
    "alfabeto = 'ABCDEFGHIJKLMNOPQRSTUVWXYZ'\n",
    "encriptado = ''"
   ]
  },
  {
   "cell_type": "markdown",
   "metadata": {},
   "source": [
    "III. Para cada letra en el mensaje vamos a buscar la letra equivalente usando nuestro 'rot' de referencia."
   ]
  },
  {
   "cell_type": "code",
   "execution_count": 41,
   "metadata": {
    "collapsed": false
   },
   "outputs": [],
   "source": [
    "for letrita in mensaje:\n",
    "    if letrita in alfabeto:\n",
    "        num = alfabeto.find(letrita)\n",
    "        num = num + rot\n",
    "        \n",
    "        if num >= len(alfabeto):\n",
    "            num = num-len(alfabeto)\n",
    "        elif num < 0:\n",
    "            num = num + len(alfabeto)\n",
    "        encriptado = encriptado + alfabeto[num]\n",
    "        \n",
    "    else:\n",
    "        encriptado = encriptado + letrita\n",
    "            "
   ]
  },
  {
   "cell_type": "code",
   "execution_count": 42,
   "metadata": {
    "collapsed": false
   },
   "outputs": [
    {
     "name": "stdout",
     "output_type": "stream",
     "text": [
      "FSCJCQ Y RGLEY\n"
     ]
    }
   ],
   "source": [
    "print (encriptado)"
   ]
  },
  {
   "cell_type": "markdown",
   "metadata": {},
   "source": [
    "Fin."
   ]
  }
 ],
 "metadata": {
  "kernelspec": {
   "display_name": "Python [conda root]",
   "language": "python",
   "name": "conda-root-py"
  },
  "language_info": {
   "codemirror_mode": {
    "name": "ipython",
    "version": 3
   },
   "file_extension": ".py",
   "mimetype": "text/x-python",
   "name": "python",
   "nbconvert_exporter": "python",
   "pygments_lexer": "ipython3",
   "version": "3.5.2"
  }
 },
 "nbformat": 4,
 "nbformat_minor": 1
}
