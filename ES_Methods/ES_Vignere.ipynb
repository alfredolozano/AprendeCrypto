{
 "cells": [
  {
   "cell_type": "markdown",
   "metadata": {},
   "source": [
    "<h1> Cifrado de Vignère"
   ]
  },
  {
   "cell_type": "markdown",
   "metadata": {},
   "source": [
    "___________"
   ]
  },
  {
   "cell_type": "markdown",
   "metadata": {},
   "source": [
    "![Figure 1](./img/Vig.png)\n",
    "\n",
    "El cifrado de Vignère se basa en una serie de rotaciones como en el cifrado de Cesar, este tipo de cifrados se llama de **sustitución simple polialfabética** correspondiente a las letras de una palabra llave.\n",
    "\n",
    "Tomemos la notación numérica del alfabeto:\n",
    "\n",
    "| A| B| C|D|E|F|G|H|I|J|K|L|M|N|O|P|Q|R|S|T|U|V|W|X|Y|Z|\n",
    "|:-:|:-:|:-:|:-:|:-:|:-:|:-:|:-:|:-:|:-:|:-:|:-:|:-:|:-:|:-:|:-:|:-:|:-:|:-:|:-:|:-:|:-:|:-:|:-:|:-:|\n",
    "| 0| 1| 2|3|4|5|6|7|8|9|10|11|12|13|14|15|16|17|18|19|20|21|22|23|24|25|\n",
    "\n",
    "** * Observación: ** los espacios, puntuación, acentuación y caracteres especiales fueron removidos.\n",
    "\n",
    "Después, tomémos una palabra como llave:\n",
    "\n",
    "$$k =\\ PYHTON$$\n",
    "\n",
    "** * Observación: ** El método funciona con una llave de cualquier longitud, puede verse que a mayor longitud, la llave es más segura. \n"
   ]
  },
  {
   "cell_type": "markdown",
   "metadata": {},
   "source": [
    "_________"
   ]
  },
  {
   "cell_type": "markdown",
   "metadata": {},
   "source": [
    "<h3> ¡A encriptar!"
   ]
  },
  {
   "cell_type": "markdown",
   "metadata": {},
   "source": [
    "Tomémos el mensaje $M = LEON\\ BATTISTA\\ LO\\ SUPO\\ PRIMERO$.\n",
    "\n",
    "Vamos a aplicar a cada letra $M_i\\ ,i=1,2,...,25$ una rotación correspondiente a cada letra de la llave :\n",
    "\n",
    "|L|E|O|N|B|A|T|T|I|S|T|A|L|O|S|U|P|O|P|R|I|M|E|R|O|\n",
    "|:-:|:-:|:-:|:-:|:-:|:-:|:-:|:-:|:-:|:-:|:-:|:-:|:-:|:-:|:-:|:-:|:-:|:-:|:-:|:-:|:-:|:-:|:-:|:-:|\n",
    "|P|Y|T|H|O|N|P|Y|T|H|O|N|P|Y|T|H|O|N|P|Y|T|H|O|N|P|\n",
    "\n",
    "Por lo tanto, a la primera letra del mensaje le aplicamos una rotación $k_1 =\\ P$ equivalente a sumar el valor numérico de la letra $P$ es decir: $15\\ mod\\ 26$."
   ]
  },
  {
   "cell_type": "code",
   "execution_count": 4,
   "metadata": {
    "collapsed": false
   },
   "outputs": [
    {
     "name": "stdout",
     "output_type": "stream",
     "text": [
      "['L', 'E', 'O', 'N', 'B', 'A', 'T', 'T', 'I', 'S', 'T', 'A', 'L', 'O', 'S', 'U', 'P', 'O', 'P', 'R', 'I', 'M', 'E', 'R', 'O']\n",
      "M =  [11, 4, 14, 13, 1, 0, 19, 19, 8, 18, 19, 0, 11, 14, 18, 20, 15, 14, 15, 17, 8, 12, 4, 17, 14]\n"
     ]
    }
   ],
   "source": [
    "mensaje = 'LEON BATTISTA LO SUPO PRIMERO'\n",
    "mensaje = mensaje.replace(' ','') # Quitamos los espacios\n",
    "mensaje = mensaje.replace(',','') # Quitamos las comas\n",
    "mensaje = list(mensaje)\n",
    "print(mensaje)\n",
    "mensaje_numerico = [ # Transformamos los caracteres a su representación numérica.\n",
    "    ord(letra) - 65\n",
    "    for letra in mensaje\n",
    "]\n",
    "print(\"M = \", mensaje_numerico)"
   ]
  },
  {
   "cell_type": "code",
   "execution_count": 3,
   "metadata": {
    "collapsed": false
   },
   "outputs": [
    {
     "name": "stdout",
     "output_type": "stream",
     "text": [
      "['P', 'Y', 'T', 'H', 'O', 'N']\n",
      "k =  [15, 24, 19, 7, 14, 13]\n"
     ]
    }
   ],
   "source": [
    "llave = 'PYTHON'\n",
    "llave = llave.replace(' ','') # Quitamos los espacios\n",
    "llave = llave.replace(',','') # Quitamos la coma\n",
    "llave = list(llave)\n",
    "print(llave)\n",
    "llave_numerica = [ # Transformamos los caracteres a su representación numérica.\n",
    "    ord(letra) - 65\n",
    "    for letra in llave\n",
    "]\n",
    "print(\"k = \",llave_numerica)"
   ]
  },
  {
   "cell_type": "markdown",
   "metadata": {
    "collapsed": true
   },
   "source": [
    "Entonces, la primera letra del cifrado corresponde a la letra $M_1 = L = 11$ del mensaje, más la rotación correspondiente a la primera letra de la llave: $k_1=P=15\\ mod\\ 26$\n",
    "\n",
    "$\\Rightarrow\\ c_1= (11+15)\\ mod\\ 26=0$\n",
    "\n",
    "De esta manera se sigue para las demás letras del mensaje así:\n",
    "\n",
    "|L|E|O|N|B|A|T|T|I|S|T|A|L|O|S|U|P|O|P|R|I|M|E|R|O|\n",
    "|:---:|:---:|:---:|:---:|:---:|:---:|:---:|:---:|:---:|:-----:|:-:|:---:|:---:|:-:|:---:|:---:|:---:|:---:|:---:|:---:|:---:|:---:|:---:|:---:|:---:|\n",
    "|11| 4|14| 13| 1| 0| 19| 19| 8| 18| 19| 0| 11| 14| 18| 20| 15| 14| 15| 17| 8| 12| 4| 17| 14|\n",
    "|**P**|**Y**|**T**|**H**|**O**|**N**|**P**|**Y**|**T**|**H**|**O**|**N**|**P**|**Y**|**T**|**H**|**O**|**N**|**P**|**Y**|**T**|**H**|**O**|**N**|**P**|\n",
    "|15|24|19|7|14|13|15|24|19|7|14|13|15|24|19|7|14|13|15|24|19|7|14|13|15|\n",
    "|**A**|**C**|**H**|**U**|**P**|**N**|**I**|**R**|**B**|**Z**|**H**|**N**|**A**|**M**|**L**|**B**|**D**|**B**|**E**|**P**|**B**|**T**|**S**|**E**|**D**|\n",
    "|0|2|7|20|15|13|8|17|1|25|7|13|0|12|11|1|3|1|4|15|1|19|18|4|3|\n"
   ]
  },
  {
   "cell_type": "code",
   "execution_count": 4,
   "metadata": {
    "collapsed": false
   },
   "outputs": [
    {
     "name": "stdout",
     "output_type": "stream",
     "text": [
      "[0, 2, 7, 20, 15, 13, 8, 17, 1, 25, 7, 13, 0, 12, 11, 1, 3, 1, 4, 15, 1, 19, 18, 4, 3]\n",
      "c =  ACHUPNIRBZHNAMLBDBEPBTSED\n"
     ]
    }
   ],
   "source": [
    "cifrado_numerico = [   \n",
    "    (mensaje_numerico[i] + llave_numerica[i % len(llave)]) % 26\n",
    "    for i in range(0,len(mensaje_numerico))\n",
    "] \n",
    "\n",
    "print(cifrado_numerico)\n",
    "\n",
    "cifrado = [ # Transformación a la forma alfabética\n",
    "    chr(letra + 65)\n",
    "    for letra in cifrado_numerico\n",
    "]\n",
    "\n",
    "cifrado = ''.join(cifrado) # Cifrado final\n",
    "\n",
    "print('c = ',cifrado) "
   ]
  },
  {
   "cell_type": "markdown",
   "metadata": {
    "collapsed": true
   },
   "source": [
    "_________"
   ]
  },
  {
   "cell_type": "markdown",
   "metadata": {},
   "source": [
    "<h3> Desencripta"
   ]
  },
  {
   "cell_type": "markdown",
   "metadata": {},
   "source": [
    "Para desencriptar debemos tomar la llave $c^{-1}$ donde cada letra equivale al inverso aditivo de las letras de la llave original, es decir, $-c_{i}\\ mod\\ 26$   y entonces aplicamos el mismo método de rotación letra por letra que utilizamos al encriptar el mensaje."
   ]
  },
  {
   "cell_type": "code",
   "execution_count": 14,
   "metadata": {
    "collapsed": false
   },
   "outputs": [
    {
     "name": "stdout",
     "output_type": "stream",
     "text": [
      "c =  [15, 24, 19, 7, 14, 13]\n",
      "c^-1 =  [-15, -24, -19, -7, -14, -13]\n"
     ]
    }
   ],
   "source": [
    "llave_inversa = [ # Tomamos el inverso aditivo mod 26 de las letras de la llave.\n",
    "    -letra\n",
    "    for letra in llave_numerica\n",
    "]\n",
    "print(\"c = \",llave_numerica)\n",
    "print(\"c^-1 = \",llave_inversa)\n"
   ]
  },
  {
   "cell_type": "code",
   "execution_count": 13,
   "metadata": {
    "collapsed": false
   },
   "outputs": [
    {
     "name": "stdout",
     "output_type": "stream",
     "text": [
      "[11, 4, 14, 13, 1, 0, 19, 19, 8, 18, 19, 0, 11, 14, 18, 20, 15, 14, 15, 17, 8, 12, 4, 17, 14]\n",
      "d =  LEONBATTISTALOSUPOPRIMERO\n"
     ]
    }
   ],
   "source": [
    "d = [   \n",
    "    (cifrado_numerico[i] + llave_inversa[i % len(llave)]) % 26\n",
    "    for i in range(0,len(cifrado_numerico))\n",
    "] \n",
    "\n",
    "print(d)\n",
    "\n",
    "d = [ # Transformación a la forma alfabética\n",
    "    chr(letra + 65)\n",
    "    for letra in d\n",
    "]\n",
    "\n",
    "d = ''.join(d) # Cifrado final\n",
    "\n",
    "print('d = ',d)"
   ]
  },
  {
   "cell_type": "markdown",
   "metadata": {},
   "source": [
    "_____"
   ]
  },
  {
   "cell_type": "markdown",
   "metadata": {},
   "source": [
    "<h4> Encripta:"
   ]
  },
  {
   "cell_type": "code",
   "execution_count": 16,
   "metadata": {
    "collapsed": false
   },
   "outputs": [
    {
     "ename": "SyntaxError",
     "evalue": "invalid syntax (<ipython-input-16-53adcdfed32f>, line 1)",
     "output_type": "error",
     "traceback": [
      "\u001b[0;36m  File \u001b[0;32m\"<ipython-input-16-53adcdfed32f>\"\u001b[0;36m, line \u001b[0;32m1\u001b[0m\n\u001b[0;31m    mensaje_1 = #Ingresa un mensaje en letras mayusculas\u001b[0m\n\u001b[0m                                                        ^\u001b[0m\n\u001b[0;31mSyntaxError\u001b[0m\u001b[0;31m:\u001b[0m invalid syntax\n"
     ]
    }
   ],
   "source": [
    "mensaje_1 = #Ingresa un mensaje en letras mayusculas\n",
    "mensaje_1 = mensaje_1.replace(' ','') # Quitamos los espacios\n",
    "mensaje_1 = mensaje_1.replace(',','') # Quitamos las comas\n",
    "mensaje_1 = list(mensaje_1)\n",
    "print(mensaje_1)\n",
    "mensaje_numerico_1 = [ # Transformamos los caracteres a su representación numérica.\n",
    "    ord(letra) - 65\n",
    "    for letra in mensaje_1\n",
    "]\n",
    "print(\"M = \",mensaje_numerico_1)"
   ]
  },
  {
   "cell_type": "code",
   "execution_count": 1,
   "metadata": {
    "collapsed": false
   },
   "outputs": [
    {
     "ename": "SyntaxError",
     "evalue": "invalid syntax (<ipython-input-1-8d01ca572d60>, line 1)",
     "output_type": "error",
     "traceback": [
      "\u001b[0;36m  File \u001b[0;32m\"<ipython-input-1-8d01ca572d60>\"\u001b[0;36m, line \u001b[0;32m1\u001b[0m\n\u001b[0;31m    llave_1 = #Ingresa una llave\u001b[0m\n\u001b[0m                                ^\u001b[0m\n\u001b[0;31mSyntaxError\u001b[0m\u001b[0;31m:\u001b[0m invalid syntax\n"
     ]
    }
   ],
   "source": [
    "llave_1 = #Ingresa una llave\n",
    "llave_1 = llave_1.replace(' ','') # Quitamos los espacios\n",
    "llave_1 = llave_1.replace(',','') # Quitamos la coma\n",
    "llave_1 = list(llave_1)\n",
    "print(llave_1)\n",
    "llave_numerica_1 = [ # Transformamos los caracteres a su representación numérica.\n",
    "    ord(letra) - 65\n",
    "    for letra in llave_1\n",
    "]\n",
    "print(\"k = \",llave_numerica_1)"
   ]
  },
  {
   "cell_type": "code",
   "execution_count": null,
   "metadata": {
    "collapsed": true
   },
   "outputs": [],
   "source": [
    "cifrado_numerico_1 = [   \n",
    "    (mensaje_numerico_1[i] + llave_numerica_1[i % len(llave_1)]) % 26\n",
    "    for i in range(0,len(mensaje_numerico_1))\n",
    "] \n",
    "\n",
    "print(cifrado_numerico_1)\n",
    "\n",
    "cifrado = [ # Transformación a la forma alfabética\n",
    "    chr(letra_1 + 65)\n",
    "    for letra_1 in cifrado_numerico_1\n",
    "]\n",
    "\n",
    "cifrado_1 = ''.join(cifrado_1) # Cifrado final\n",
    "\n",
    "print('c = ',cifrado_1) "
   ]
  },
  {
   "cell_type": "markdown",
   "metadata": {},
   "source": [
    "<h4> Desencripta:"
   ]
  },
  {
   "cell_type": "code",
   "execution_count": 18,
   "metadata": {
    "collapsed": false
   },
   "outputs": [
    {
     "name": "stdout",
     "output_type": "stream",
     "text": [
      "c =  [15, 24, 19, 7, 14, 13]\n",
      "c^-1 =  [-15, -24, -19, -7, -14, -13]\n"
     ]
    }
   ],
   "source": [
    "llave_inversa_! = [ # Tomamos el inverso aditivo mod 26 de las letras de la llave.\n",
    "    -letra\n",
    "    for letra in llave_numerica_!\n",
    "]\n",
    "print(\"c = \",llave_numerica_!)\n",
    "print(\"c^-1 = \",llave_inversa_!)\n"
   ]
  },
  {
   "cell_type": "code",
   "execution_count": null,
   "metadata": {
    "collapsed": true
   },
   "outputs": [],
   "source": [
    "d = [   \n",
    "    (cifrado_numerico_1[i] + llave_inversa_1[i % len(llave_1)]) % 26\n",
    "    for i in range(0,len(cifrado_numerico_1))\n",
    "] \n",
    "\n",
    "print(d)\n",
    "\n",
    "d = [ # Transformación a la forma alfabética\n",
    "    chr(letra + 65)\n",
    "    for letra in d_1\n",
    "]\n",
    "\n",
    "d_1 = ''.join(d_1) # Cifrado final\n",
    "\n",
    "print('d = ',d_1)_1"
   ]
  }
 ],
 "metadata": {
  "anaconda-cloud": {},
  "kernelspec": {
   "display_name": "Python 3",
   "language": "python",
   "name": "python3"
  },
  "language_info": {
   "codemirror_mode": {
    "name": "ipython",
    "version": 3
   },
   "file_extension": ".py",
   "mimetype": "text/x-python",
   "name": "python",
   "nbconvert_exporter": "python",
   "pygments_lexer": "ipython3",
   "version": "3.5.2"
  }
 },
 "nbformat": 4,
 "nbformat_minor": 1
}
